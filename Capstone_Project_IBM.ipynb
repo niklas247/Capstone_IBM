{
 "cells": [
  {
   "cell_type": "markdown",
   "source": [
    "# Capstone Project by Niklas"
   ],
   "metadata": {
    "collapsed": false,
    "pycharm": {
     "name": "#%% md\n"
    }
   }
  },
  {
   "cell_type": "markdown",
   "source": [
    "## Problem description & Background\n",
    "\n",
    "Vehicle accidents can have tremendous impacts on a person's life - both from a health perspective but also on a financial one.\n",
    "On those, multiple factors like traffic, rain, snow, wind,\n",
    "or road conditions can determine the likeliness and severity of an accident.\n",
    "\n",
    "*Can it be possible to determine and quantify the risk even before starting the engine by knowing certain conditions that can be expected during the ride?*\n",
    "\n",
    "So, the goal of this research is to help people to evaluate the overall risk of a vehicle trip out of the combination of likeliness\n",
    "of an accident and potential impact/severity, so that drivers can make better decisions for themselves and other people."
   ],
   "metadata": {
    "collapsed": false,
    "pycharm": {
     "name": "#%% md\n"
    }
   }
  },
  {
   "cell_type": "markdown",
   "source": [
    "## Data description and usage to solve the problem\n",
    "\n",
    "For this Capstone Project, a Collision data set will be used that includes information about almost 200,000 accidents recorded in Seattle, WA, since the year 2004.\n",
    "From those accidents, 5085 did not involve vehicles but just pedestrians and cyclists. Those will be excluded from the analysis.\n",
    "Overall, the data set contains various variables with possible influence on the target variable, the **SEVERITY** of an accident.\n",
    "These predictor variables include the following:\n",
    "\n",
    "- *WEATHER:* Describing weather conditions with attribute options like Clear, Overcast, Raining, Fog, Crosswind, Snow, and other\n",
    "- *ROADCOND:* Describing road conditions with attribute options like Dry, Wet, Ice, Oil, Standing Water, and other\n",
    "- *LIGHTCOND:* Describing light conditions with attribute options like Daylight, Dawn, and Dark with different status of artificial/street light\n",
    "- *ADDRTYPE:* Describing the address type where a collision took place with the options Alley, Block, and Intersection\n",
    "- *COLLISIONTYPE:* Describing the type of the collision with options like parked car, right turn, pedestrian, and others\n",
    "- *VEHICLECOUNT:* Describing the number of vehicles involved in the accident\n",
    "- *DATE/TIME:* Describing date and time of when the accident happened\n",
    "\n",
    "Going forward, this data will be examined via exploratory analysis to identify the most influential predictor variables.\n"
   ],
   "metadata": {
    "collapsed": false,
    "pycharm": {
     "name": "#%% md\n"
    }
   }
  },
  {
   "cell_type": "markdown",
   "source": [
    "#### Methodology section\n",
    "\n",
    "1. Exploratory Analysis"
   ],
   "metadata": {
    "collapsed": false,
    "pycharm": {
     "name": "#%% md\n"
    }
   }
  },
  {
   "cell_type": "code",
   "execution_count": 187,
   "outputs": [],
   "source": [
    "#import pandas\n",
    "\n",
    "import pandas as pd"
   ],
   "metadata": {
    "collapsed": false,
    "pycharm": {
     "name": "#%%\n"
    }
   }
  },
  {
   "cell_type": "code",
   "execution_count": 188,
   "outputs": [],
   "source": [
    "# import data\n",
    "\n",
    "df_raw = pd.read_csv(\"Data-Collisions.csv\")"
   ],
   "metadata": {
    "collapsed": false,
    "pycharm": {
     "name": "#%%\n"
    }
   }
  },
  {
   "cell_type": "code",
   "execution_count": 189,
   "outputs": [
    {
     "data": {
      "text/plain": "SEVERITYCODE     int64\nADDRTYPE        object\nWEATHER         object\nROADCOND        object\nLIGHTCOND       object\ndtype: object"
     },
     "execution_count": 189,
     "metadata": {},
     "output_type": "execute_result"
    }
   ],
   "source": [
    "df_columns = df_raw[['SEVERITYCODE','ADDRTYPE','WEATHER','ROADCOND','LIGHTCOND']]\n",
    "df_cleaned = df_columns.copy()\n",
    "df_cleaned.dtypes"
   ],
   "metadata": {
    "collapsed": false,
    "pycharm": {
     "name": "#%% clean data / create new dataframe\n"
    }
   }
  },
  {
   "cell_type": "code",
   "execution_count": 190,
   "outputs": [],
   "source": [
    "df_cleaned.dropna(inplace=True)\n",
    "\n",
    "df_cleaned[\"ADDRTYPE\"] = df_cleaned[\"ADDRTYPE\"].astype('category')\n",
    "df_cleaned[\"WEATHER\"] = df_cleaned[\"WEATHER\"].astype('category')\n",
    "df_cleaned[\"ROADCOND\"] = df_cleaned[\"ROADCOND\"].astype('category')\n",
    "df_cleaned[\"LIGHTCOND\"] = df_cleaned[\"LIGHTCOND\"].astype('category')"
   ],
   "metadata": {
    "collapsed": false,
    "pycharm": {
     "name": "#%%delete rows with missing data\n"
    }
   }
  },
  {
   "cell_type": "code",
   "execution_count": 191,
   "outputs": [
    {
     "data": {
      "text/plain": "Block           123321\nIntersection     63462\nAlley              742\nName: ADDRTYPE, dtype: int64"
     },
     "execution_count": 191,
     "metadata": {},
     "output_type": "execute_result"
    }
   ],
   "source": [
    "df_cleaned[\"ADDRTYPE\"].value_counts()"
   ],
   "metadata": {
    "collapsed": false,
    "pycharm": {
     "name": "#%%\n"
    }
   }
  },
  {
   "cell_type": "code",
   "execution_count": 192,
   "outputs": [
    {
     "data": {
      "text/plain": "Clear                       110499\nRaining                      32976\nOvercast                     27551\nUnknown                      14059\nSnowing                        896\nOther                          790\nFog/Smog/Smoke                 563\nSleet/Hail/Freezing Rain       112\nBlowing Sand/Dirt               49\nSevere Crosswind                25\nPartly Cloudy                    5\nName: WEATHER, dtype: int64"
     },
     "execution_count": 192,
     "metadata": {},
     "output_type": "execute_result"
    }
   ],
   "source": [
    "df_cleaned[\"WEATHER\"].value_counts()"
   ],
   "metadata": {
    "collapsed": false,
    "pycharm": {
     "name": "#%%\n"
    }
   }
  },
  {
   "cell_type": "code",
   "execution_count": 193,
   "outputs": [
    {
     "data": {
      "text/plain": "Dry               123736\nWet                47223\nUnknown            14009\nIce                 1193\nSnow/Slush           992\nOther                124\nStanding Water       111\nSand/Mud/Dirt         73\nOil                   64\nName: ROADCOND, dtype: int64"
     },
     "execution_count": 193,
     "metadata": {},
     "output_type": "execute_result"
    }
   ],
   "source": [
    "df_cleaned[\"ROADCOND\"].value_counts()"
   ],
   "metadata": {
    "collapsed": false,
    "pycharm": {
     "name": "#%%\n"
    }
   }
  },
  {
   "cell_type": "code",
   "execution_count": 194,
   "outputs": [
    {
     "data": {
      "text/plain": "Daylight                    115408\nDark - Street Lights On      48236\nUnknown                      12599\nDusk                          5843\nDawn                          2491\nDark - No Street Lights       1526\nDark - Street Lights Off      1184\nOther                          227\nDark - Unknown Lighting         11\nName: LIGHTCOND, dtype: int64"
     },
     "execution_count": 194,
     "metadata": {},
     "output_type": "execute_result"
    }
   ],
   "source": [
    "df_cleaned[\"LIGHTCOND\"].value_counts()"
   ],
   "metadata": {
    "collapsed": false,
    "pycharm": {
     "name": "#%%\n"
    }
   }
  },
  {
   "cell_type": "code",
   "execution_count": 195,
   "outputs": [],
   "source": [
    "df_cleaned[\"ADDRTYPE_INT\"] = df_cleaned[\"ADDRTYPE\"].cat.codes\n",
    "df_cleaned[\"WEATHER_INT\"] = df_cleaned[\"WEATHER\"].cat.codes\n",
    "df_cleaned[\"ROADCOND_INT\"] = df_cleaned[\"ROADCOND\"].cat.codes\n",
    "df_cleaned[\"LIGHTCOND_INT\"] = df_cleaned[\"LIGHTCOND\"].cat.codes"
   ],
   "metadata": {
    "collapsed": false,
    "pycharm": {
     "name": "#%%\n"
    }
   }
  },
  {
   "cell_type": "code",
   "execution_count": 196,
   "outputs": [
    {
     "data": {
      "text/plain": "   SEVERITYCODE      ADDRTYPE   WEATHER ROADCOND                LIGHTCOND  \\\n0             2  Intersection  Overcast      Wet                 Daylight   \n1             1         Block   Raining      Wet  Dark - Street Lights On   \n2             1         Block  Overcast      Dry                 Daylight   \n3             1         Block     Clear      Dry                 Daylight   \n4             2  Intersection   Raining      Wet                 Daylight   \n5             1  Intersection     Clear      Dry                 Daylight   \n6             1  Intersection   Raining      Wet                 Daylight   \n7             2  Intersection     Clear      Dry                 Daylight   \n8             1         Block     Clear      Dry                 Daylight   \n9             2  Intersection     Clear      Dry                 Daylight   \n\n   ADDRTYPE_INT  WEATHER_INT  ROADCOND_INT  LIGHTCOND_INT  \n0             2            4             8              5  \n1             1            6             8              2  \n2             1            4             0              5  \n3             1            1             0              5  \n4             2            6             8              5  \n5             2            1             0              5  \n6             2            6             8              5  \n7             2            1             0              5  \n8             1            1             0              5  \n9             2            1             0              5  ",
      "text/html": "<div>\n<style scoped>\n    .dataframe tbody tr th:only-of-type {\n        vertical-align: middle;\n    }\n\n    .dataframe tbody tr th {\n        vertical-align: top;\n    }\n\n    .dataframe thead th {\n        text-align: right;\n    }\n</style>\n<table border=\"1\" class=\"dataframe\">\n  <thead>\n    <tr style=\"text-align: right;\">\n      <th></th>\n      <th>SEVERITYCODE</th>\n      <th>ADDRTYPE</th>\n      <th>WEATHER</th>\n      <th>ROADCOND</th>\n      <th>LIGHTCOND</th>\n      <th>ADDRTYPE_INT</th>\n      <th>WEATHER_INT</th>\n      <th>ROADCOND_INT</th>\n      <th>LIGHTCOND_INT</th>\n    </tr>\n  </thead>\n  <tbody>\n    <tr>\n      <th>0</th>\n      <td>2</td>\n      <td>Intersection</td>\n      <td>Overcast</td>\n      <td>Wet</td>\n      <td>Daylight</td>\n      <td>2</td>\n      <td>4</td>\n      <td>8</td>\n      <td>5</td>\n    </tr>\n    <tr>\n      <th>1</th>\n      <td>1</td>\n      <td>Block</td>\n      <td>Raining</td>\n      <td>Wet</td>\n      <td>Dark - Street Lights On</td>\n      <td>1</td>\n      <td>6</td>\n      <td>8</td>\n      <td>2</td>\n    </tr>\n    <tr>\n      <th>2</th>\n      <td>1</td>\n      <td>Block</td>\n      <td>Overcast</td>\n      <td>Dry</td>\n      <td>Daylight</td>\n      <td>1</td>\n      <td>4</td>\n      <td>0</td>\n      <td>5</td>\n    </tr>\n    <tr>\n      <th>3</th>\n      <td>1</td>\n      <td>Block</td>\n      <td>Clear</td>\n      <td>Dry</td>\n      <td>Daylight</td>\n      <td>1</td>\n      <td>1</td>\n      <td>0</td>\n      <td>5</td>\n    </tr>\n    <tr>\n      <th>4</th>\n      <td>2</td>\n      <td>Intersection</td>\n      <td>Raining</td>\n      <td>Wet</td>\n      <td>Daylight</td>\n      <td>2</td>\n      <td>6</td>\n      <td>8</td>\n      <td>5</td>\n    </tr>\n    <tr>\n      <th>5</th>\n      <td>1</td>\n      <td>Intersection</td>\n      <td>Clear</td>\n      <td>Dry</td>\n      <td>Daylight</td>\n      <td>2</td>\n      <td>1</td>\n      <td>0</td>\n      <td>5</td>\n    </tr>\n    <tr>\n      <th>6</th>\n      <td>1</td>\n      <td>Intersection</td>\n      <td>Raining</td>\n      <td>Wet</td>\n      <td>Daylight</td>\n      <td>2</td>\n      <td>6</td>\n      <td>8</td>\n      <td>5</td>\n    </tr>\n    <tr>\n      <th>7</th>\n      <td>2</td>\n      <td>Intersection</td>\n      <td>Clear</td>\n      <td>Dry</td>\n      <td>Daylight</td>\n      <td>2</td>\n      <td>1</td>\n      <td>0</td>\n      <td>5</td>\n    </tr>\n    <tr>\n      <th>8</th>\n      <td>1</td>\n      <td>Block</td>\n      <td>Clear</td>\n      <td>Dry</td>\n      <td>Daylight</td>\n      <td>1</td>\n      <td>1</td>\n      <td>0</td>\n      <td>5</td>\n    </tr>\n    <tr>\n      <th>9</th>\n      <td>2</td>\n      <td>Intersection</td>\n      <td>Clear</td>\n      <td>Dry</td>\n      <td>Daylight</td>\n      <td>2</td>\n      <td>1</td>\n      <td>0</td>\n      <td>5</td>\n    </tr>\n  </tbody>\n</table>\n</div>"
     },
     "execution_count": 196,
     "metadata": {},
     "output_type": "execute_result"
    }
   ],
   "source": [
    "df_cleaned.head(10)\n"
   ],
   "metadata": {
    "collapsed": false,
    "pycharm": {
     "name": "#%%\n"
    }
   }
  },
  {
   "cell_type": "code",
   "execution_count": 197,
   "outputs": [
    {
     "data": {
      "text/plain": "ADDRTYPE            Alley     Block  Intersection       All\nProperty Damage  0.892183  0.761363      0.568655  0.696664\nInjury           0.107817  0.238637      0.431345  0.303336\nTotal Column     1.000000  1.000000      1.000000  1.000000",
      "text/html": "<div>\n<style scoped>\n    .dataframe tbody tr th:only-of-type {\n        vertical-align: middle;\n    }\n\n    .dataframe tbody tr th {\n        vertical-align: top;\n    }\n\n    .dataframe thead th {\n        text-align: right;\n    }\n</style>\n<table border=\"1\" class=\"dataframe\">\n  <thead>\n    <tr style=\"text-align: right;\">\n      <th>ADDRTYPE</th>\n      <th>Alley</th>\n      <th>Block</th>\n      <th>Intersection</th>\n      <th>All</th>\n    </tr>\n  </thead>\n  <tbody>\n    <tr>\n      <th>Property Damage</th>\n      <td>0.892183</td>\n      <td>0.761363</td>\n      <td>0.568655</td>\n      <td>0.696664</td>\n    </tr>\n    <tr>\n      <th>Injury</th>\n      <td>0.107817</td>\n      <td>0.238637</td>\n      <td>0.431345</td>\n      <td>0.303336</td>\n    </tr>\n    <tr>\n      <th>Total Column</th>\n      <td>1.000000</td>\n      <td>1.000000</td>\n      <td>1.000000</td>\n      <td>1.000000</td>\n    </tr>\n  </tbody>\n</table>\n</div>"
     },
     "execution_count": 197,
     "metadata": {},
     "output_type": "execute_result"
    }
   ],
   "source": [
    "addr_prob = pd.crosstab(index=df_cleaned[\"SEVERITYCODE\"],\n",
    "                           columns=df_cleaned[\"ADDRTYPE\"], margins=True)\n",
    "\n",
    "addr_prob.index = [\"Property Damage\", \"Injury\", \"Total Column\"]\n",
    "\n",
    "addr_prob/addr_prob.loc[\"Total Column\"]\n"
   ],
   "metadata": {
    "collapsed": false,
    "pycharm": {
     "name": "#%%\n"
    }
   }
  },
  {
   "cell_type": "code",
   "execution_count": 198,
   "outputs": [
    {
     "data": {
      "text/plain": "WEATHER          Blowing Sand/Dirt    Clear  Fog/Smog/Smoke     Other  \\\nProperty Damage           0.734694  0.67673        0.669627  0.855696   \nInjury                    0.265306  0.32327        0.330373  0.144304   \nTotal Column              1.000000  1.00000        1.000000  1.000000   \n\nWEATHER          Overcast  Partly Cloudy   Raining  Severe Crosswind  \\\nProperty Damage  0.683678            0.4  0.662179              0.72   \nInjury           0.316322            0.6  0.337821              0.28   \nTotal Column     1.000000            1.0  1.000000              1.00   \n\nWEATHER          Sleet/Hail/Freezing Rain   Snowing   Unknown       All  \nProperty Damage                  0.758929  0.813616  0.943808  0.696664  \nInjury                           0.241071  0.186384  0.056192  0.303336  \nTotal Column                     1.000000  1.000000  1.000000  1.000000  ",
      "text/html": "<div>\n<style scoped>\n    .dataframe tbody tr th:only-of-type {\n        vertical-align: middle;\n    }\n\n    .dataframe tbody tr th {\n        vertical-align: top;\n    }\n\n    .dataframe thead th {\n        text-align: right;\n    }\n</style>\n<table border=\"1\" class=\"dataframe\">\n  <thead>\n    <tr style=\"text-align: right;\">\n      <th>WEATHER</th>\n      <th>Blowing Sand/Dirt</th>\n      <th>Clear</th>\n      <th>Fog/Smog/Smoke</th>\n      <th>Other</th>\n      <th>Overcast</th>\n      <th>Partly Cloudy</th>\n      <th>Raining</th>\n      <th>Severe Crosswind</th>\n      <th>Sleet/Hail/Freezing Rain</th>\n      <th>Snowing</th>\n      <th>Unknown</th>\n      <th>All</th>\n    </tr>\n  </thead>\n  <tbody>\n    <tr>\n      <th>Property Damage</th>\n      <td>0.734694</td>\n      <td>0.67673</td>\n      <td>0.669627</td>\n      <td>0.855696</td>\n      <td>0.683678</td>\n      <td>0.4</td>\n      <td>0.662179</td>\n      <td>0.72</td>\n      <td>0.758929</td>\n      <td>0.813616</td>\n      <td>0.943808</td>\n      <td>0.696664</td>\n    </tr>\n    <tr>\n      <th>Injury</th>\n      <td>0.265306</td>\n      <td>0.32327</td>\n      <td>0.330373</td>\n      <td>0.144304</td>\n      <td>0.316322</td>\n      <td>0.6</td>\n      <td>0.337821</td>\n      <td>0.28</td>\n      <td>0.241071</td>\n      <td>0.186384</td>\n      <td>0.056192</td>\n      <td>0.303336</td>\n    </tr>\n    <tr>\n      <th>Total Column</th>\n      <td>1.000000</td>\n      <td>1.00000</td>\n      <td>1.000000</td>\n      <td>1.000000</td>\n      <td>1.000000</td>\n      <td>1.0</td>\n      <td>1.000000</td>\n      <td>1.00</td>\n      <td>1.000000</td>\n      <td>1.000000</td>\n      <td>1.000000</td>\n      <td>1.000000</td>\n    </tr>\n  </tbody>\n</table>\n</div>"
     },
     "execution_count": 198,
     "metadata": {},
     "output_type": "execute_result"
    }
   ],
   "source": [
    "weather_prob = pd.crosstab(index=df_cleaned[\"SEVERITYCODE\"],\n",
    "                           columns=df_cleaned[\"WEATHER\"], margins=True)\n",
    "\n",
    "weather_prob.index = [\"Property Damage\", \"Injury\", \"Total Column\"]\n",
    "\n",
    "weather_prob/weather_prob.loc[\"Total Column\"]"
   ],
   "metadata": {
    "collapsed": false,
    "pycharm": {
     "name": "#%%\n"
    }
   }
  },
  {
   "cell_type": "code",
   "execution_count": 199,
   "outputs": [
    {
     "data": {
      "text/plain": "ROADCOND              Dry      Ice    Oil    Other  Sand/Mud/Dirt  Snow/Slush  \\\nProperty Damage  0.677531  0.77368  0.625  0.66129        0.69863    0.833669   \nInjury           0.322469  0.22632  0.375  0.33871        0.30137    0.166331   \nTotal Column     1.000000  1.00000  1.000  1.00000        1.00000    1.000000   \n\nROADCOND         Standing Water   Unknown       Wet       All  \nProperty Damage        0.738739  0.947891  0.667535  0.696664  \nInjury                 0.261261  0.052109  0.332465  0.303336  \nTotal Column           1.000000  1.000000  1.000000  1.000000  ",
      "text/html": "<div>\n<style scoped>\n    .dataframe tbody tr th:only-of-type {\n        vertical-align: middle;\n    }\n\n    .dataframe tbody tr th {\n        vertical-align: top;\n    }\n\n    .dataframe thead th {\n        text-align: right;\n    }\n</style>\n<table border=\"1\" class=\"dataframe\">\n  <thead>\n    <tr style=\"text-align: right;\">\n      <th>ROADCOND</th>\n      <th>Dry</th>\n      <th>Ice</th>\n      <th>Oil</th>\n      <th>Other</th>\n      <th>Sand/Mud/Dirt</th>\n      <th>Snow/Slush</th>\n      <th>Standing Water</th>\n      <th>Unknown</th>\n      <th>Wet</th>\n      <th>All</th>\n    </tr>\n  </thead>\n  <tbody>\n    <tr>\n      <th>Property Damage</th>\n      <td>0.677531</td>\n      <td>0.77368</td>\n      <td>0.625</td>\n      <td>0.66129</td>\n      <td>0.69863</td>\n      <td>0.833669</td>\n      <td>0.738739</td>\n      <td>0.947891</td>\n      <td>0.667535</td>\n      <td>0.696664</td>\n    </tr>\n    <tr>\n      <th>Injury</th>\n      <td>0.322469</td>\n      <td>0.22632</td>\n      <td>0.375</td>\n      <td>0.33871</td>\n      <td>0.30137</td>\n      <td>0.166331</td>\n      <td>0.261261</td>\n      <td>0.052109</td>\n      <td>0.332465</td>\n      <td>0.303336</td>\n    </tr>\n    <tr>\n      <th>Total Column</th>\n      <td>1.000000</td>\n      <td>1.00000</td>\n      <td>1.000</td>\n      <td>1.00000</td>\n      <td>1.00000</td>\n      <td>1.000000</td>\n      <td>1.000000</td>\n      <td>1.000000</td>\n      <td>1.000000</td>\n      <td>1.000000</td>\n    </tr>\n  </tbody>\n</table>\n</div>"
     },
     "execution_count": 199,
     "metadata": {},
     "output_type": "execute_result"
    }
   ],
   "source": [
    "road_prob = pd.crosstab(index=df_cleaned[\"SEVERITYCODE\"],\n",
    "                           columns=df_cleaned[\"ROADCOND\"], margins=True)\n",
    "\n",
    "road_prob.index = [\"Property Damage\", \"Injury\", \"Total Column\"]\n",
    "\n",
    "road_prob/road_prob.loc[\"Total Column\"]"
   ],
   "metadata": {
    "collapsed": false,
    "pycharm": {
     "name": "#%%\n"
    }
   }
  },
  {
   "cell_type": "code",
   "execution_count": 200,
   "outputs": [
    {
     "data": {
      "text/plain": "LIGHTCOND        Dark - No Street Lights  Dark - Street Lights Off  \\\nProperty Damage                 0.781127                  0.733953   \nInjury                          0.218873                  0.266047   \nTotal Column                    1.000000                  1.000000   \n\nLIGHTCOND        Dark - Street Lights On  Dark - Unknown Lighting      Dawn  \\\nProperty Damage                 0.701053                 0.636364  0.669611   \nInjury                          0.298947                 0.363636  0.330389   \nTotal Column                    1.000000                 1.000000  1.000000   \n\nLIGHTCOND        Daylight      Dusk     Other  Unknown       All  \nProperty Damage  0.667181  0.668663  0.770925  0.95325  0.696664  \nInjury           0.332819  0.331337  0.229075  0.04675  0.303336  \nTotal Column     1.000000  1.000000  1.000000  1.00000  1.000000  ",
      "text/html": "<div>\n<style scoped>\n    .dataframe tbody tr th:only-of-type {\n        vertical-align: middle;\n    }\n\n    .dataframe tbody tr th {\n        vertical-align: top;\n    }\n\n    .dataframe thead th {\n        text-align: right;\n    }\n</style>\n<table border=\"1\" class=\"dataframe\">\n  <thead>\n    <tr style=\"text-align: right;\">\n      <th>LIGHTCOND</th>\n      <th>Dark - No Street Lights</th>\n      <th>Dark - Street Lights Off</th>\n      <th>Dark - Street Lights On</th>\n      <th>Dark - Unknown Lighting</th>\n      <th>Dawn</th>\n      <th>Daylight</th>\n      <th>Dusk</th>\n      <th>Other</th>\n      <th>Unknown</th>\n      <th>All</th>\n    </tr>\n  </thead>\n  <tbody>\n    <tr>\n      <th>Property Damage</th>\n      <td>0.781127</td>\n      <td>0.733953</td>\n      <td>0.701053</td>\n      <td>0.636364</td>\n      <td>0.669611</td>\n      <td>0.667181</td>\n      <td>0.668663</td>\n      <td>0.770925</td>\n      <td>0.95325</td>\n      <td>0.696664</td>\n    </tr>\n    <tr>\n      <th>Injury</th>\n      <td>0.218873</td>\n      <td>0.266047</td>\n      <td>0.298947</td>\n      <td>0.363636</td>\n      <td>0.330389</td>\n      <td>0.332819</td>\n      <td>0.331337</td>\n      <td>0.229075</td>\n      <td>0.04675</td>\n      <td>0.303336</td>\n    </tr>\n    <tr>\n      <th>Total Column</th>\n      <td>1.000000</td>\n      <td>1.000000</td>\n      <td>1.000000</td>\n      <td>1.000000</td>\n      <td>1.000000</td>\n      <td>1.000000</td>\n      <td>1.000000</td>\n      <td>1.000000</td>\n      <td>1.00000</td>\n      <td>1.000000</td>\n    </tr>\n  </tbody>\n</table>\n</div>"
     },
     "execution_count": 200,
     "metadata": {},
     "output_type": "execute_result"
    }
   ],
   "source": [
    "light_prob = pd.crosstab(index=df_cleaned[\"SEVERITYCODE\"],\n",
    "                           columns=df_cleaned[\"LIGHTCOND\"], margins=True)\n",
    "\n",
    "light_prob.index = [\"Property Damage\", \"Injury\", \"Total Column\"]\n",
    "\n",
    "light_prob/light_prob.loc[\"Total Column\"]"
   ],
   "metadata": {
    "collapsed": false,
    "pycharm": {
     "name": "#%%\n"
    }
   }
  },
  {
   "cell_type": "markdown",
   "source": [
    "During the SVM ML analysis I detected the classification of all test data to 1 - property damage.\n",
    "As a reason, the strong verhältnis from 70/30 (property/injury) in the data comes in frage.\n",
    "therefore, the set will be resampled to go another iteration with all algorithms."
   ],
   "metadata": {
    "collapsed": false
   }
  },
  {
   "cell_type": "code",
   "execution_count": 201,
   "outputs": [],
   "source": [
    "from sklearn.utils import resample"
   ],
   "metadata": {
    "collapsed": false,
    "pycharm": {
     "name": "#%%\n"
    }
   }
  },
  {
   "cell_type": "code",
   "execution_count": 202,
   "outputs": [
    {
     "data": {
      "text/plain": "2    56883\n1    56883\nName: SEVERITYCODE, dtype: int64"
     },
     "execution_count": 202,
     "metadata": {},
     "output_type": "execute_result"
    }
   ],
   "source": [
    "df_cleaned_majority = df_cleaned[df_cleaned.SEVERITYCODE==1]\n",
    "df_cleaned_minority = df_cleaned[df_cleaned.SEVERITYCODE==2]\n",
    "\n",
    "#Downsample majority class\n",
    "df_cleaned_majority_new = resample(df_cleaned_majority,\n",
    "                                        replace=False,\n",
    "                                        n_samples=56883,\n",
    "                                        random_state=247)\n",
    "\n",
    "# Combine minority class with downsampled majority class\n",
    "df_cleaned_bal = pd.concat([df_cleaned_majority_new, df_cleaned_minority])\n",
    "\n",
    "# Display new class counts\n",
    "df_cleaned_bal.SEVERITYCODE.value_counts()"
   ],
   "metadata": {
    "collapsed": false,
    "pycharm": {
     "name": "#%%\n"
    }
   }
  },
  {
   "cell_type": "code",
   "execution_count": 203,
   "outputs": [
    {
     "data": {
      "text/plain": "array([1, 1, 1, 1, 1])"
     },
     "execution_count": 203,
     "metadata": {},
     "output_type": "execute_result"
    }
   ],
   "source": [
    "import numpy as np\n",
    "\n",
    "#split data\n",
    "\n",
    "y_data = np.asarray(df_cleaned_bal['SEVERITYCODE'])\n",
    "y_data[0:5]"
   ],
   "metadata": {
    "collapsed": false,
    "pycharm": {
     "name": "#%%\n"
    }
   }
  },
  {
   "cell_type": "code",
   "execution_count": 204,
   "outputs": [
    {
     "data": {
      "text/plain": "array([[1, 1, 1, 5],\n       [1, 1, 0, 2],\n       [1, 4, 0, 5],\n       [1, 1, 0, 5],\n       [1, 1, 0, 5]], dtype=int8)"
     },
     "execution_count": 204,
     "metadata": {},
     "output_type": "execute_result"
    }
   ],
   "source": [
    "x_data = df_cleaned_bal.drop(['SEVERITYCODE','ADDRTYPE','WEATHER','ROADCOND','LIGHTCOND'], axis=1)\n",
    "x_data = np.asarray(x_data)\n",
    "x_data [0:5]\n"
   ],
   "metadata": {
    "collapsed": false,
    "pycharm": {
     "name": "#%%\n"
    }
   }
  },
  {
   "cell_type": "code",
   "execution_count": 205,
   "outputs": [
    {
     "data": {
      "text/plain": "array([[-0.76, -0.72, -0.42,  0.4 ],\n       [-0.76, -0.72, -0.69, -1.43],\n       [-0.76,  0.4 , -0.69,  0.4 ],\n       [-0.76, -0.72, -0.69,  0.4 ],\n       [-0.76, -0.72, -0.69,  0.4 ]])"
     },
     "execution_count": 205,
     "metadata": {},
     "output_type": "execute_result"
    }
   ],
   "source": [
    "from sklearn import preprocessing\n",
    "x_data = preprocessing.StandardScaler().fit(x_data).transform(x_data)\n",
    "x_data[0:5]"
   ],
   "metadata": {
    "collapsed": false,
    "pycharm": {
     "name": "#%%\n"
    }
   }
  },
  {
   "cell_type": "code",
   "execution_count": 206,
   "outputs": [
    {
     "name": "stdout",
     "output_type": "stream",
     "text": [
      "('number of test samples :', 34130)\n",
      "('number of training samples:', 79636)\n"
     ]
    }
   ],
   "source": [
    "from sklearn.model_selection import train_test_split\n",
    "\n",
    "x_train, x_test, y_train, y_test = train_test_split(x_data, y_data, test_size=0.30, random_state=1)\n",
    "\n",
    "\n",
    "print(\"number of test samples :\", x_test.shape[0])\n",
    "print(\"number of training samples:\",x_train.shape[0])"
   ],
   "metadata": {
    "collapsed": false,
    "pycharm": {
     "name": "#%%\n"
    }
   }
  },
  {
   "cell_type": "markdown",
   "source": [
    "K - Nearest Neighbours"
   ],
   "metadata": {
    "collapsed": false,
    "pycharm": {
     "name": "#%% md\n"
    }
   }
  },
  {
   "cell_type": "code",
   "execution_count": 207,
   "outputs": [
    {
     "data": {
      "text/plain": "KNeighborsClassifier(algorithm='auto', leaf_size=30, metric='minkowski',\n           metric_params=None, n_jobs=None, n_neighbors=4, p=2,\n           weights='uniform')"
     },
     "execution_count": 207,
     "metadata": {},
     "output_type": "execute_result"
    }
   ],
   "source": [
    "from sklearn.neighbors import KNeighborsClassifier\n",
    "\n",
    "k = 4\n",
    "\n",
    "#Train Model and Predict\n",
    "\n",
    "neigh = KNeighborsClassifier(n_neighbors = k).fit(x_train,y_train)\n",
    "neigh"
   ],
   "metadata": {
    "collapsed": false,
    "pycharm": {
     "name": "#%%\n"
    }
   }
  },
  {
   "cell_type": "code",
   "execution_count": 208,
   "outputs": [
    {
     "data": {
      "text/plain": "array([2, 2, 2, 2, 2])"
     },
     "execution_count": 208,
     "metadata": {},
     "output_type": "execute_result"
    }
   ],
   "source": [
    "yhat = neigh.predict(x_test)\n",
    "\n",
    "yhat[0:5]"
   ],
   "metadata": {
    "collapsed": false,
    "pycharm": {
     "name": "#%%\n"
    }
   }
  },
  {
   "cell_type": "code",
   "execution_count": 209,
   "outputs": [
    {
     "name": "stdout",
     "output_type": "stream",
     "text": [
      "('Train set Accuracy: ', 0.5536691948365061)\n",
      "('Test set Accuracy: ', 0.5514210372106652)\n"
     ]
    }
   ],
   "source": [
    "from sklearn import metrics\n",
    "print(\"Train set Accuracy: \", metrics.accuracy_score(y_train, neigh.predict(x_train)))\n",
    "print(\"Test set Accuracy: \", metrics.accuracy_score(y_test, yhat))"
   ],
   "metadata": {
    "collapsed": false,
    "pycharm": {
     "name": "#%%\n"
    }
   }
  },
  {
   "cell_type": "code",
   "execution_count": 210,
   "outputs": [
    {
     "data": {
      "text/plain": "array([0.49, 0.5 , 0.57, 0.55, 0.56, 0.51, 0.52, 0.52, 0.53, 0.53, 0.53,\n       0.54, 0.58, 0.53])"
     },
     "execution_count": 210,
     "metadata": {},
     "output_type": "execute_result"
    }
   ],
   "source": [
    "Ks = 15\n",
    "mean_acc = np.zeros((Ks-1))\n",
    "std_acc = np.zeros((Ks-1))\n",
    "ConfustionMx = [];\n",
    "for n in range(1,Ks):\n",
    "\n",
    "    #Train Model and Predict\n",
    "    neigh = KNeighborsClassifier(n_neighbors = n).fit(x_train,y_train)\n",
    "    yhat=neigh.predict(x_test)\n",
    "    mean_acc[n-1] = metrics.accuracy_score(y_test, yhat)\n",
    "\n",
    "\n",
    "    std_acc[n-1]=np.std(yhat==y_test)/np.sqrt(yhat.shape[0])\n",
    "\n",
    "mean_acc"
   ],
   "metadata": {
    "collapsed": false,
    "pycharm": {
     "name": "#%%\n"
    }
   }
  },
  {
   "cell_type": "markdown",
   "source": [
    "Plot models"
   ],
   "metadata": {
    "collapsed": false,
    "pycharm": {
     "name": "#%% md\n"
    }
   }
  },
  {
   "cell_type": "code",
   "execution_count": 211,
   "outputs": [
    {
     "data": {
      "image/png": "[encoded data removed]",
      "text/plain": "<Figure size 432x288 with 1 Axes>"
     },
     "metadata": {
      "needs_background": "light"
     },
     "output_type": "display_data"
    }
   ],
   "source": [
    "import matplotlib.pyplot as plt\n",
    "\n",
    "plt.plot(range(1,Ks),mean_acc,'g')\n",
    "plt.fill_between(range(1,Ks),mean_acc - 1 * std_acc,mean_acc + 1 * std_acc, alpha=0.10)\n",
    "plt.legend(('Accuracy ', '+/- 3 x std'))\n",
    "plt.ylabel('Accuracy ')\n",
    "plt.xlabel('Number of Neighbors (K)')\n",
    "plt.tight_layout()\n",
    "plt.show()"
   ],
   "metadata": {
    "collapsed": false,
    "pycharm": {
     "name": "#%%\n"
    }
   }
  },
  {
   "cell_type": "markdown",
   "source": [
    "Decision tree"
   ],
   "metadata": {
    "collapsed": false,
    "pycharm": {
     "name": "#%% md\n"
    }
   }
  },
  {
   "cell_type": "code",
   "execution_count": 212,
   "outputs": [],
   "source": [
    "from sklearn.tree import DecisionTreeClassifier"
   ],
   "metadata": {
    "collapsed": false,
    "pycharm": {
     "name": "#%%\n"
    }
   }
  },
  {
   "cell_type": "code",
   "execution_count": 213,
   "outputs": [
    {
     "data": {
      "text/plain": "DecisionTreeClassifier(class_weight=None, criterion='entropy', max_depth=4,\n            max_features=None, max_leaf_nodes=None,\n            min_impurity_decrease=0.0, min_impurity_split=None,\n            min_samples_leaf=1, min_samples_split=2,\n            min_weight_fraction_leaf=0.0, presort=False, random_state=None,\n            splitter='best')"
     },
     "execution_count": 213,
     "metadata": {},
     "output_type": "execute_result"
    }
   ],
   "source": [
    "df_cleaned_tree = DecisionTreeClassifier(criterion=\"entropy\", max_depth = 4)\n",
    "df_cleaned_tree"
   ],
   "metadata": {
    "collapsed": false,
    "pycharm": {
     "name": "#%%\n"
    }
   }
  },
  {
   "cell_type": "code",
   "execution_count": 214,
   "outputs": [
    {
     "data": {
      "text/plain": "DecisionTreeClassifier(class_weight=None, criterion='entropy', max_depth=4,\n            max_features=None, max_leaf_nodes=None,\n            min_impurity_decrease=0.0, min_impurity_split=None,\n            min_samples_leaf=1, min_samples_split=2,\n            min_weight_fraction_leaf=0.0, presort=False, random_state=None,\n            splitter='best')"
     },
     "execution_count": 214,
     "metadata": {},
     "output_type": "execute_result"
    }
   ],
   "source": [
    "df_cleaned_tree.fit(x_train,y_train)"
   ],
   "metadata": {
    "collapsed": false,
    "pycharm": {
     "name": "#%%\n"
    }
   }
  },
  {
   "cell_type": "code",
   "execution_count": 215,
   "outputs": [
    {
     "name": "stdout",
     "output_type": "stream",
     "text": [
      "[1 2 1 2 2]\n",
      "[2 2 1 1 2]\n"
     ]
    }
   ],
   "source": [
    "df_cleaned_predTree = df_cleaned_tree.predict(x_test)\n",
    "\n",
    "print (df_cleaned_predTree [0:5])\n",
    "print (y_test [0:5])"
   ],
   "metadata": {
    "collapsed": false,
    "pycharm": {
     "name": "#%%\n"
    }
   }
  },
  {
   "cell_type": "code",
   "execution_count": 216,
   "outputs": [
    {
     "name": "stdout",
     "output_type": "stream",
     "text": [
      "(\"DecisionTrees's Accuracy: \", 0.6050102549077059)\n"
     ]
    }
   ],
   "source": [
    "print(\"DecisionTrees's Accuracy: \", metrics.accuracy_score(y_test, df_cleaned_predTree))"
   ],
   "metadata": {
    "collapsed": false,
    "pycharm": {
     "name": "#%%\n"
    }
   }
  },
  {
   "cell_type": "markdown",
   "source": [
    "SVM"
   ],
   "metadata": {
    "collapsed": false,
    "pycharm": {
     "name": "#%% md\n"
    }
   }
  },
  {
   "cell_type": "code",
   "execution_count": 224,
   "outputs": [
    {
     "data": {
      "text/plain": "SVC(C=1.0, cache_size=200, class_weight=None, coef0=0.0,\n  decision_function_shape='ovr', degree=3, gamma='auto_deprecated',\n  kernel='poly', max_iter=-1, probability=False, random_state=None,\n  shrinking=True, tol=0.001, verbose=False)"
     },
     "execution_count": 224,
     "metadata": {},
     "output_type": "execute_result"
    }
   ],
   "source": [
    "from sklearn import svm\n",
    "clf = svm.SVC(kernel='poly')\n",
    "clf.fit(x_train, y_train)"
   ],
   "metadata": {
    "collapsed": false,
    "pycharm": {
     "name": "#%%\n"
    }
   }
  },
  {
   "cell_type": "code",
   "execution_count": 225,
   "outputs": [
    {
     "data": {
      "text/plain": "array([1, 2, 1, 2, 2, 1, 1, 1, 1, 1, 1, 1, 1, 2, 1, 2, 2, 2, 1, 1, 2, 1,\n       1, 1, 2])"
     },
     "execution_count": 225,
     "metadata": {},
     "output_type": "execute_result"
    }
   ],
   "source": [
    "yhat = clf.predict(x_test)\n",
    "yhat [0:25]"
   ],
   "metadata": {
    "collapsed": false,
    "pycharm": {
     "name": "#%%\n"
    }
   }
  },
  {
   "cell_type": "code",
   "execution_count": 219,
   "outputs": [],
   "source": [
    "from sklearn.metrics import classification_report, confusion_matrix\n",
    "import itertools"
   ],
   "metadata": {
    "collapsed": false,
    "pycharm": {
     "name": "#%%\n"
    }
   }
  },
  {
   "cell_type": "code",
   "execution_count": 220,
   "outputs": [],
   "source": [
    "def plot_confusion_matrix(cm, classes,\n",
    "                          normalize=False,\n",
    "                          title='Confusion matrix',\n",
    "                          cmap=plt.cm.Blues):\n",
    "    \"\"\"\n",
    "    This function prints and plots the confusion matrix.\n",
    "    Normalization can be applied by setting `normalize=True`.\n",
    "    \"\"\"\n",
    "    if normalize:\n",
    "        cm = cm.astype('float') / cm.sum(axis=1)[:, np.newaxis]\n",
    "        print(\"Normalized confusion matrix\")\n",
    "    else:\n",
    "        print('Confusion matrix, without normalization')\n",
    "\n",
    "    print(cm)\n",
    "\n",
    "    plt.imshow(cm, interpolation='nearest', cmap=cmap)\n",
    "    plt.title(title)\n",
    "    plt.colorbar()\n",
    "    tick_marks = np.arange(len(classes))\n",
    "    plt.xticks(tick_marks, classes, rotation=45)\n",
    "    plt.yticks(tick_marks, classes)\n",
    "\n",
    "    fmt = '.2f' if normalize else 'd'\n",
    "    thresh = cm.max() / 2.\n",
    "    for i, j in itertools.product(range(cm.shape[0]), range(cm.shape[1])):\n",
    "        plt.text(j, i, format(cm[i, j], fmt),\n",
    "                 horizontalalignment=\"center\",\n",
    "                 color=\"white\" if cm[i, j] > thresh else \"black\")\n",
    "\n",
    "    plt.tight_layout()\n",
    "    plt.ylabel('True label')\n",
    "    plt.xlabel('Predicted label')"
   ],
   "metadata": {
    "collapsed": false,
    "pycharm": {
     "name": "#%%\n"
    }
   }
  },
  {
   "cell_type": "code",
   "execution_count": 226,
   "outputs": [
    {
     "name": "stdout",
     "output_type": "stream",
     "text": [
      "              precision    recall  f1-score   support\n",
      "\n",
      "           1       0.59      0.74      0.65     17194\n",
      "           2       0.64      0.47      0.54     16936\n",
      "\n",
      "   micro avg       0.60      0.60      0.60     34130\n",
      "   macro avg       0.61      0.60      0.60     34130\n",
      "weighted avg       0.61      0.60      0.60     34130\n",
      "\n"
     ]
    }
   ],
   "source": [
    "# Compute confusion matrix\n",
    "#cnf_matrix = confusion_matrix(y_test, yhat, labels=[2,4])\n",
    "#np.set_printoptions(precision=2)\n",
    "\n",
    "print (classification_report(y_test, yhat))\n",
    "\n",
    "# Plot non-normalized confusion matrix\n",
    "#plt.figure()\n",
    "#plot_confusion_matrix(cnf_matrix, classes=['Benign(2)','Malignant(4)'],normalize= False,  title='Confusion matrix')"
   ],
   "metadata": {
    "collapsed": false,
    "pycharm": {
     "name": "#%%\n"
    }
   }
  },
  {
   "cell_type": "markdown",
   "source": [
    "2. Inferential statistical testing\n",
    "\n",
    "3. Machine Learnings"
   ],
   "metadata": {
    "collapsed": false
   }
  },
  {
   "cell_type": "markdown",
   "source": [
    "#### Results"
   ],
   "metadata": {
    "collapsed": false,
    "pycharm": {
     "name": "#%% md\n"
    }
   }
  },
  {
   "cell_type": "markdown",
   "source": [
    "#### Discussion"
   ],
   "metadata": {
    "collapsed": false,
    "pycharm": {
     "name": "#%% md\n"
    }
   }
  },
  {
   "cell_type": "markdown",
   "source": [
    "#### Conclusion"
   ],
   "metadata": {
    "collapsed": false,
    "pycharm": {
     "name": "#%% md\n"
    }
   }
  }
 ],
 "metadata": {
  "kernelspec": {
   "name": "python2",
   "language": "python",
   "display_name": "Python 2"
  },
  "language_info": {
   "codemirror_mode": {
    "name": "ipython",
    "version": 2
   },
   "file_extension": ".py",
   "mimetype": "text/x-python",
   "name": "python",
   "nbconvert_exporter": "python",
   "pygments_lexer": "ipython2",
   "version": "2.7.6"
  }
 },
 "nbformat": 4,
 "nbformat_minor": 0
}