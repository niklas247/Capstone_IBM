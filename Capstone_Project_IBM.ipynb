{
 "cells": [
  {
   "cell_type": "markdown",
   "source": [
    "# Capstone Project by Niklas"
   ],
   "metadata": {
    "collapsed": false,
    "pycharm": {
     "name": "#%% md\n"
    }
   }
  },
  {
   "cell_type": "markdown",
   "source": [
    "## Problem description & Background\n",
    "\n",
    "Vehicle accidents can have tremendous impacts on a person's life - both from a health perspective but also on a financial one.\n",
    "On those, multiple factors like traffic, rain, snow, wind,\n",
    "or road conditions can determine the likeliness and severity of an accident.\n",
    "\n",
    "*Can it be possible to determine and quantify the risk even before starting the engine by knowing certain conditions that can be expected during the ride?*\n",
    "\n",
    "So, the goal of this research is to help people to evaluate the overall risk of a vehicle trip out of the combination of likeliness\n",
    "of an accident and potential impact/severity, so that drivers can make better decisions for themselves and other people."
   ],
   "metadata": {
    "collapsed": false,
    "pycharm": {
     "name": "#%% md\n"
    }
   }
  },
  {
   "cell_type": "markdown",
   "source": [
    "## Data description and usage to solve the problem\n",
    "\n",
    "For this Capstone Project, a Collision data set will be used that includes information about almost 200,000 accidents recorded in Seattle, WA, since the year 2004.\n",
    "From those accidents, 5085 did not involve vehicles but just pedestrians and cyclists. Those will be excluded from the analysis.\n",
    "Overall, the data set contains various variables with possible influence on the target variable, the **SEVERITY** of an accident.\n",
    "These predictor variables include the following:\n",
    "\n",
    "- *WEATHER:* Describing weather conditions with attribute options like Clear, Overcast, Raining, Fog, Crosswind, Snow, and other\n",
    "- *ROADCOND:* Describing road conditions with attribute options like Dry, Wet, Ice, Oil, Standing Water, and other\n",
    "- *LIGHTCOND:* Describing light conditions with attribute options like Daylight, Dawn, and Dark with different status of artificial/street light\n",
    "- *ADDRTYPE:* Describing the address type where a collision took place with the options Alley, Block, and Intersection\n",
    "- *COLLISIONTYPE:* Describing the type of the collision with options like parked car, right turn, pedestrian, and others\n",
    "- *VEHICLECOUNT:* Describing the number of vehicles involved in the accident\n",
    "- *DATE/TIME:* Describing date and time of when the accident happened\n",
    "\n",
    "Going forward, this data will be examined via exploratory analysis to identify the most influential predictor variables.\n"
   ],
   "metadata": {
    "collapsed": false,
    "pycharm": {
     "name": "#%% md\n"
    }
   }
  },
  {
   "cell_type": "markdown",
   "source": [
    "#### Methodology section\n",
    "\n",
    "1. Exploratory Analysis"
   ],
   "metadata": {
    "collapsed": false,
    "pycharm": {
     "name": "#%% md\n"
    }
   }
  },
  {
   "cell_type": "code",
   "execution_count": 20,
   "outputs": [],
   "source": [
    "#import libraries\n",
    "\n",
    "import pandas as pd\n",
    "import numpy as np"
   ],
   "metadata": {
    "collapsed": false,
    "pycharm": {
     "name": "#%%\n"
    }
   }
  },
  {
   "cell_type": "code",
   "execution_count": 21,
   "outputs": [],
   "source": [
    "# import data\n",
    "\n",
    "df_raw = pd.read_csv(\"Data-Collisions.csv\")"
   ],
   "metadata": {
    "collapsed": false,
    "pycharm": {
     "name": "#%%\n"
    }
   }
  },
  {
   "cell_type": "code",
   "execution_count": 22,
   "outputs": [
    {
     "data": {
      "text/plain": "SEVERITYCODE     int64\nADDRTYPE        object\nWEATHER         object\nROADCOND        object\nLIGHTCOND       object\ndtype: object"
     },
     "execution_count": 22,
     "metadata": {},
     "output_type": "execute_result"
    }
   ],
   "source": [
    "df_columns = df_raw[['SEVERITYCODE','ADDRTYPE','WEATHER','ROADCOND','LIGHTCOND']]\n",
    "df_cleaned = df_columns.copy()\n",
    "df_cleaned.dtypes"
   ],
   "metadata": {
    "collapsed": false,
    "pycharm": {
     "name": "#%% clean data / create new dataframe\n"
    }
   }
  },
  {
   "cell_type": "code",
   "execution_count": 23,
   "outputs": [],
   "source": [
    "df_cleaned.dropna(inplace=True)\n",
    "\n",
    "df_cleaned[\"ADDRTYPE\"] = df_cleaned[\"ADDRTYPE\"].astype('category')\n",
    "df_cleaned[\"WEATHER\"] = df_cleaned[\"WEATHER\"].astype('category')\n",
    "df_cleaned[\"ROADCOND\"] = df_cleaned[\"ROADCOND\"].astype('category')\n",
    "df_cleaned[\"LIGHTCOND\"] = df_cleaned[\"LIGHTCOND\"].astype('category')"
   ],
   "metadata": {
    "collapsed": false,
    "pycharm": {
     "name": "#%%delete rows with missing data\n"
    }
   }
  },
  {
   "cell_type": "code",
   "execution_count": 24,
   "outputs": [
    {
     "data": {
      "text/plain": "Block           123321\nIntersection     63462\nAlley              742\nName: ADDRTYPE, dtype: int64"
     },
     "execution_count": 24,
     "metadata": {},
     "output_type": "execute_result"
    }
   ],
   "source": [
    "df_cleaned[\"ADDRTYPE\"].value_counts()"
   ],
   "metadata": {
    "collapsed": false,
    "pycharm": {
     "name": "#%%\n"
    }
   }
  },
  {
   "cell_type": "code",
   "execution_count": 25,
   "outputs": [
    {
     "data": {
      "text/plain": "Clear                       110499\nRaining                      32976\nOvercast                     27551\nUnknown                      14059\nSnowing                        896\nOther                          790\nFog/Smog/Smoke                 563\nSleet/Hail/Freezing Rain       112\nBlowing Sand/Dirt               49\nSevere Crosswind                25\nPartly Cloudy                    5\nName: WEATHER, dtype: int64"
     },
     "execution_count": 25,
     "metadata": {},
     "output_type": "execute_result"
    }
   ],
   "source": [
    "df_cleaned[\"WEATHER\"].value_counts()"
   ],
   "metadata": {
    "collapsed": false,
    "pycharm": {
     "name": "#%%\n"
    }
   }
  },
  {
   "cell_type": "code",
   "execution_count": 26,
   "outputs": [
    {
     "data": {
      "text/plain": "Dry               123736\nWet                47223\nUnknown            14009\nIce                 1193\nSnow/Slush           992\nOther                124\nStanding Water       111\nSand/Mud/Dirt         73\nOil                   64\nName: ROADCOND, dtype: int64"
     },
     "execution_count": 26,
     "metadata": {},
     "output_type": "execute_result"
    }
   ],
   "source": [
    "df_cleaned[\"ROADCOND\"].value_counts()"
   ],
   "metadata": {
    "collapsed": false,
    "pycharm": {
     "name": "#%%\n"
    }
   }
  },
  {
   "cell_type": "code",
   "execution_count": 27,
   "outputs": [
    {
     "data": {
      "text/plain": "Daylight                    115408\nDark - Street Lights On      48236\nUnknown                      12599\nDusk                          5843\nDawn                          2491\nDark - No Street Lights       1526\nDark - Street Lights Off      1184\nOther                          227\nDark - Unknown Lighting         11\nName: LIGHTCOND, dtype: int64"
     },
     "execution_count": 27,
     "metadata": {},
     "output_type": "execute_result"
    }
   ],
   "source": [
    "df_cleaned[\"LIGHTCOND\"].value_counts()"
   ],
   "metadata": {
    "collapsed": false,
    "pycharm": {
     "name": "#%%\n"
    }
   }
  },
  {
   "cell_type": "code",
   "execution_count": 28,
   "outputs": [],
   "source": [
    "df_cleaned[\"ADDRTYPE_INT\"] = df_cleaned[\"ADDRTYPE\"].cat.codes\n",
    "df_cleaned[\"WEATHER_INT\"] = df_cleaned[\"WEATHER\"].cat.codes\n",
    "df_cleaned[\"ROADCOND_INT\"] = df_cleaned[\"ROADCOND\"].cat.codes\n",
    "df_cleaned[\"LIGHTCOND_INT\"] = df_cleaned[\"LIGHTCOND\"].cat.codes"
   ],
   "metadata": {
    "collapsed": false,
    "pycharm": {
     "name": "#%%\n"
    }
   }
  },
  {
   "cell_type": "code",
   "execution_count": 29,
   "outputs": [
    {
     "data": {
      "text/plain": "   SEVERITYCODE      ADDRTYPE   WEATHER ROADCOND                LIGHTCOND  \\\n0             2  Intersection  Overcast      Wet                 Daylight   \n1             1         Block   Raining      Wet  Dark - Street Lights On   \n2             1         Block  Overcast      Dry                 Daylight   \n3             1         Block     Clear      Dry                 Daylight   \n4             2  Intersection   Raining      Wet                 Daylight   \n5             1  Intersection     Clear      Dry                 Daylight   \n6             1  Intersection   Raining      Wet                 Daylight   \n7             2  Intersection     Clear      Dry                 Daylight   \n8             1         Block     Clear      Dry                 Daylight   \n9             2  Intersection     Clear      Dry                 Daylight   \n\n   ADDRTYPE_INT  WEATHER_INT  ROADCOND_INT  LIGHTCOND_INT  \n0             2            4             8              5  \n1             1            6             8              2  \n2             1            4             0              5  \n3             1            1             0              5  \n4             2            6             8              5  \n5             2            1             0              5  \n6             2            6             8              5  \n7             2            1             0              5  \n8             1            1             0              5  \n9             2            1             0              5  ",
      "text/html": "<div>\n<style scoped>\n    .dataframe tbody tr th:only-of-type {\n        vertical-align: middle;\n    }\n\n    .dataframe tbody tr th {\n        vertical-align: top;\n    }\n\n    .dataframe thead th {\n        text-align: right;\n    }\n</style>\n<table border=\"1\" class=\"dataframe\">\n  <thead>\n    <tr style=\"text-align: right;\">\n      <th></th>\n      <th>SEVERITYCODE</th>\n      <th>ADDRTYPE</th>\n      <th>WEATHER</th>\n      <th>ROADCOND</th>\n      <th>LIGHTCOND</th>\n      <th>ADDRTYPE_INT</th>\n      <th>WEATHER_INT</th>\n      <th>ROADCOND_INT</th>\n      <th>LIGHTCOND_INT</th>\n    </tr>\n  </thead>\n  <tbody>\n    <tr>\n      <th>0</th>\n      <td>2</td>\n      <td>Intersection</td>\n      <td>Overcast</td>\n      <td>Wet</td>\n      <td>Daylight</td>\n      <td>2</td>\n      <td>4</td>\n      <td>8</td>\n      <td>5</td>\n    </tr>\n    <tr>\n      <th>1</th>\n      <td>1</td>\n      <td>Block</td>\n      <td>Raining</td>\n      <td>Wet</td>\n      <td>Dark - Street Lights On</td>\n      <td>1</td>\n      <td>6</td>\n      <td>8</td>\n      <td>2</td>\n    </tr>\n    <tr>\n      <th>2</th>\n      <td>1</td>\n      <td>Block</td>\n      <td>Overcast</td>\n      <td>Dry</td>\n      <td>Daylight</td>\n      <td>1</td>\n      <td>4</td>\n      <td>0</td>\n      <td>5</td>\n    </tr>\n    <tr>\n      <th>3</th>\n      <td>1</td>\n      <td>Block</td>\n      <td>Clear</td>\n      <td>Dry</td>\n      <td>Daylight</td>\n      <td>1</td>\n      <td>1</td>\n      <td>0</td>\n      <td>5</td>\n    </tr>\n    <tr>\n      <th>4</th>\n      <td>2</td>\n      <td>Intersection</td>\n      <td>Raining</td>\n      <td>Wet</td>\n      <td>Daylight</td>\n      <td>2</td>\n      <td>6</td>\n      <td>8</td>\n      <td>5</td>\n    </tr>\n    <tr>\n      <th>5</th>\n      <td>1</td>\n      <td>Intersection</td>\n      <td>Clear</td>\n      <td>Dry</td>\n      <td>Daylight</td>\n      <td>2</td>\n      <td>1</td>\n      <td>0</td>\n      <td>5</td>\n    </tr>\n    <tr>\n      <th>6</th>\n      <td>1</td>\n      <td>Intersection</td>\n      <td>Raining</td>\n      <td>Wet</td>\n      <td>Daylight</td>\n      <td>2</td>\n      <td>6</td>\n      <td>8</td>\n      <td>5</td>\n    </tr>\n    <tr>\n      <th>7</th>\n      <td>2</td>\n      <td>Intersection</td>\n      <td>Clear</td>\n      <td>Dry</td>\n      <td>Daylight</td>\n      <td>2</td>\n      <td>1</td>\n      <td>0</td>\n      <td>5</td>\n    </tr>\n    <tr>\n      <th>8</th>\n      <td>1</td>\n      <td>Block</td>\n      <td>Clear</td>\n      <td>Dry</td>\n      <td>Daylight</td>\n      <td>1</td>\n      <td>1</td>\n      <td>0</td>\n      <td>5</td>\n    </tr>\n    <tr>\n      <th>9</th>\n      <td>2</td>\n      <td>Intersection</td>\n      <td>Clear</td>\n      <td>Dry</td>\n      <td>Daylight</td>\n      <td>2</td>\n      <td>1</td>\n      <td>0</td>\n      <td>5</td>\n    </tr>\n  </tbody>\n</table>\n</div>"
     },
     "execution_count": 29,
     "metadata": {},
     "output_type": "execute_result"
    }
   ],
   "source": [
    "df_cleaned.head(10)"
   ],
   "metadata": {
    "collapsed": false,
    "pycharm": {
     "name": "#%%\n"
    }
   }
  },
  {
   "cell_type": "code",
   "execution_count": 30,
   "outputs": [
    {
     "ename": "ImportError",
     "evalue": "No module named seaborn",
     "output_type": "error",
     "traceback": [
      "\u001B[0;31m\u001B[0m",
      "\u001B[0;31mImportError\u001B[0mTraceback (most recent call last)",
      "\u001B[0;32m<ipython-input-30-930e11b3ab5b>\u001B[0m in \u001B[0;36m<module>\u001B[0;34m()\u001B[0m\n\u001B[1;32m      1\u001B[0m \u001B[0;34m\u001B[0m\u001B[0m\n\u001B[0;32m----> 2\u001B[0;31m \u001B[0;32mimport\u001B[0m \u001B[0mseaborn\u001B[0m \u001B[0;32mas\u001B[0m \u001B[0msns\u001B[0m\u001B[0;34m\u001B[0m\u001B[0m\n\u001B[0m\u001B[1;32m      3\u001B[0m \u001B[0;34m\u001B[0m\u001B[0m\n\u001B[1;32m      4\u001B[0m \u001B[0msns\u001B[0m\u001B[0;34m.\u001B[0m\u001B[0mboxplot\u001B[0m\u001B[0;34m(\u001B[0m\u001B[0mx\u001B[0m\u001B[0;34m=\u001B[0m\u001B[0mdf_cleaned\u001B[0m\u001B[0;34m[\u001B[0m\u001B[0;34m\"ADDRTYPE\"\u001B[0m\u001B[0;34m]\u001B[0m\u001B[0;34m,\u001B[0m \u001B[0my\u001B[0m\u001B[0;34m=\u001B[0m\u001B[0mdf_cleaned\u001B[0m\u001B[0;34m[\u001B[0m\u001B[0;34m\"SEVERITYCODE\"\u001B[0m\u001B[0;34m]\u001B[0m\u001B[0;34m)\u001B[0m\u001B[0;34m\u001B[0m\u001B[0m\n",
      "\u001B[0;31mImportError\u001B[0m: No module named seaborn"
     ]
    }
   ],
   "source": [
    "import seaborn as sns\n",
    "\n",
    "sns.boxplot(x=df_cleaned[\"ADDRTYPE\"], y=df_cleaned[\"SEVERITYCODE\"])"
   ],
   "metadata": {
    "collapsed": false,
    "pycharm": {
     "name": "#%%\n"
    }
   }
  },
  {
   "cell_type": "code",
   "execution_count": null,
   "outputs": [],
   "source": [
    "sns.boxplot(x=df_cleaned[\"WEATHER\"], y=df_cleaned[\"SEVERITYCODE\"])"
   ],
   "metadata": {
    "collapsed": false,
    "pycharm": {
     "name": "#%%\n"
    }
   }
  },
  {
   "cell_type": "code",
   "execution_count": null,
   "outputs": [],
   "source": [
    "sns.boxplot(x=df_cleaned[\"ROADCOND\"], y=df_cleaned[\"SEVERITYCODE\"])"
   ],
   "metadata": {
    "collapsed": false,
    "pycharm": {
     "name": "#%%\n"
    }
   }
  },
  {
   "cell_type": "code",
   "execution_count": null,
   "outputs": [],
   "source": [
    "sns.boxplot(x=df_cleaned[\"LIGHTCOND\"], y=df_cleaned[\"SEVERITYCODE\"])"
   ],
   "metadata": {
    "collapsed": false,
    "pycharm": {
     "name": "#%%\n"
    }
   }
  },
  {
   "cell_type": "markdown",
   "source": [
    "2. Inferential statistical testing\n",
    "\n",
    "3. Machine Learnings"
   ],
   "metadata": {
    "collapsed": false
   }
  },
  {
   "cell_type": "markdown",
   "source": [
    "#### Results"
   ],
   "metadata": {
    "collapsed": false,
    "pycharm": {
     "name": "#%% md\n"
    }
   }
  },
  {
   "cell_type": "markdown",
   "source": [
    "#### Discussion"
   ],
   "metadata": {
    "collapsed": false,
    "pycharm": {
     "name": "#%% md\n"
    }
   }
  },
  {
   "cell_type": "markdown",
   "source": [
    "#### Conclusion"
   ],
   "metadata": {
    "collapsed": false,
    "pycharm": {
     "name": "#%% md\n"
    }
   }
  }
 ],
 "metadata": {
  "kernelspec": {
   "name": "python2",
   "language": "python",
   "display_name": "Python 2"
  },
  "language_info": {
   "codemirror_mode": {
    "name": "ipython",
    "version": 2
   },
   "file_extension": ".py",
   "mimetype": "text/x-python",
   "name": "python",
   "nbconvert_exporter": "python",
   "pygments_lexer": "ipython2",
   "version": "2.7.6"
  }
 },
 "nbformat": 4,
 "nbformat_minor": 0
}