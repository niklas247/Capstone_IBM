{
 "cells": [
  {
   "cell_type": "markdown",
   "source": [
    "# Capstone Project by Niklas"
   ],
   "metadata": {
    "collapsed": false,
    "pycharm": {
     "name": "#%% md\n"
    }
   }
  },
  {
   "cell_type": "markdown",
   "source": [
    "## Problem description & Background\n",
    "\n",
    "Vehicle accidents can have tremendous impacts on a person's life - both from a health perspective but also on a financial one.\n",
    "On those, multiple factors like traffic, rain, snow, wind,\n",
    "or road conditions can determine the likeliness and severity of an accident.\n",
    "\n",
    "*Can it be possible to determine and quantify the risk even before starting the engine by knowing certain conditions that can be expected during the ride?*\n",
    "\n",
    "So, the goal of this research is to help people to evaluate the overall risk of a vehicle trip out of the combination of likeliness\n",
    "of an accident and potential impact/severity, so that drivers can make better decisions for themselves and other people."
   ],
   "metadata": {
    "collapsed": false,
    "pycharm": {
     "name": "#%% md\n"
    }
   }
  },
  {
   "cell_type": "markdown",
   "source": [
    "## Data description and usage to solve the problem\n",
    "\n",
    "For this Capstone Project, a Collision data set will be used that includes information about almost 200,000 accidents recorded in Seattle, WA, since the year 2004.\n",
    "From those accidents, 5085 did not involve vehicles but just pedestrians and cyclists. Those will be excluded from the analysis.\n",
    "Overall, the data set contains various variables with possible influence on the target variable, the **SEVERITY** of an accident.\n",
    "These predictor variables include the following:\n",
    "\n",
    "- *WEATHER:* Describing weather conditions with attribute options like Clear, Overcast, Raining, Fog, Crosswind, Snow, and other\n",
    "- *ROADCOND:* Describing road conditions with attribute options like Dry, Wet, Ice, Oil, Standing Water, and other\n",
    "- *LIGHTCOND:* Describing light conditions with attribute options like Daylight, Dawn, and Dark with different status of artificial/street light\n",
    "- *ADDRTYPE:* Describing the address type where a collision took place with the options Alley, Block, and Intersection\n",
    "- *COLLISIONTYPE:* Describing the type of the collision with options like parked car, right turn, pedestrian, and others\n",
    "- *VEHICLECOUNT:* Describing the number of vehicles involved in the accident\n",
    "- *DATE/TIME:* Describing date and time of when the accident happened\n",
    "\n",
    "Going forward, this data will be examined via exploratory analysis to identify the most influential predictor variables.\n"
   ],
   "metadata": {
    "collapsed": false,
    "pycharm": {
     "name": "#%% md\n"
    }
   }
  },
  {
   "cell_type": "markdown",
   "source": [
    "#### Methodology section\n",
    "\n",
    "1. Exploratory Analysis"
   ],
   "metadata": {
    "collapsed": false,
    "pycharm": {
     "name": "#%% md\n"
    }
   }
  },
  {
   "cell_type": "code",
   "execution_count": 5,
   "outputs": [],
   "source": [
    "#import libraries\n",
    "\n",
    "import pandas as pd\n",
    "import numpy as np"
   ],
   "metadata": {
    "collapsed": false,
    "pycharm": {
     "name": "#%%\n"
    }
   }
  },
  {
   "cell_type": "code",
   "execution_count": 6,
   "outputs": [],
   "source": [
    "# import data\n",
    "\n",
    "df_raw = pd.read_csv(\"Data-Collisions.csv\")"
   ],
   "metadata": {
    "collapsed": false,
    "pycharm": {
     "name": "#%%\n"
    }
   }
  },
  {
   "cell_type": "code",
   "execution_count": 7,
   "outputs": [
    {
     "data": {
      "text/plain": "SEVERITYCODE     int64\nADDRTYPE        object\nWEATHER         object\nROADCOND        object\nLIGHTCOND       object\ndtype: object"
     },
     "execution_count": 7,
     "metadata": {},
     "output_type": "execute_result"
    }
   ],
   "source": [
    "df_columns = df_raw[['SEVERITYCODE','ADDRTYPE','WEATHER','ROADCOND','LIGHTCOND']]\n",
    "df_cleaned = df_columns.copy()\n",
    "df_cleaned.dtypes"
   ],
   "metadata": {
    "collapsed": false,
    "pycharm": {
     "name": "#%% clean data / create new dataframe\n"
    }
   }
  },
  {
   "cell_type": "code",
   "execution_count": 8,
   "outputs": [
    {
     "ename": "ValueError",
     "evalue": "invalid literal for long() with base 10: 'Intersection'",
     "output_type": "error",
     "traceback": [
      "\u001B[0;31m\u001B[0m",
      "\u001B[0;31mValueError\u001B[0mTraceback (most recent call last)",
      "\u001B[0;32m<ipython-input-8-27081b09de69>\u001B[0m in \u001B[0;36m<module>\u001B[0;34m()\u001B[0m\n\u001B[1;32m     15\u001B[0m \u001B[0mdf_cleaned\u001B[0m\u001B[0;34m[\u001B[0m\u001B[0;34m\"LIGHTCOND\"\u001B[0m\u001B[0;34m]\u001B[0m\u001B[0;34m.\u001B[0m\u001B[0mvalue_counts\u001B[0m\u001B[0;34m(\u001B[0m\u001B[0;34m)\u001B[0m\u001B[0;34m\u001B[0m\u001B[0m\n\u001B[1;32m     16\u001B[0m \u001B[0;34m\u001B[0m\u001B[0m\n\u001B[0;32m---> 17\u001B[0;31m \u001B[0mdf_cleaned\u001B[0m\u001B[0;34m[\u001B[0m\u001B[0;34m\"ADDRTYPE_INT\"\u001B[0m\u001B[0;34m]\u001B[0m \u001B[0;34m=\u001B[0m \u001B[0mdf_cleaned\u001B[0m\u001B[0;34m[\u001B[0m\u001B[0;34m\"ADDRTYPE\"\u001B[0m\u001B[0;34m]\u001B[0m\u001B[0;34m.\u001B[0m\u001B[0mastype\u001B[0m\u001B[0;34m(\u001B[0m\u001B[0mint\u001B[0m\u001B[0;34m)\u001B[0m\u001B[0;34m\u001B[0m\u001B[0m\n\u001B[0m\u001B[1;32m     18\u001B[0m \u001B[0mdf_cleaned\u001B[0m\u001B[0;34m[\u001B[0m\u001B[0;34m\"WEATHER_INT\"\u001B[0m\u001B[0;34m]\u001B[0m \u001B[0;34m=\u001B[0m \u001B[0mdf_cleaned\u001B[0m\u001B[0;34m[\u001B[0m\u001B[0;34m\"WEATHER\"\u001B[0m\u001B[0;34m]\u001B[0m\u001B[0;34m.\u001B[0m\u001B[0mastype\u001B[0m\u001B[0;34m(\u001B[0m\u001B[0mint\u001B[0m\u001B[0;34m)\u001B[0m\u001B[0;34m\u001B[0m\u001B[0m\n\u001B[1;32m     19\u001B[0m \u001B[0mdf_cleaned\u001B[0m\u001B[0;34m[\u001B[0m\u001B[0;34m\"ROADCOND_INT\"\u001B[0m\u001B[0;34m]\u001B[0m \u001B[0;34m=\u001B[0m \u001B[0mdf_cleaned\u001B[0m\u001B[0;34m[\u001B[0m\u001B[0;34m\"ROADCOND\"\u001B[0m\u001B[0;34m]\u001B[0m\u001B[0;34m.\u001B[0m\u001B[0mastype\u001B[0m\u001B[0;34m(\u001B[0m\u001B[0mint\u001B[0m\u001B[0;34m)\u001B[0m\u001B[0;34m\u001B[0m\u001B[0m\n",
      "\u001B[0;32m/Users/niklas/PycharmProjects/Capstone_IBM/venv/lib/python2.7/site-packages/pandas/core/generic.pyc\u001B[0m in \u001B[0;36mastype\u001B[0;34m(self, dtype, copy, errors, **kwargs)\u001B[0m\n\u001B[1;32m   5689\u001B[0m             \u001B[0;31m# else, only a single dtype is given\u001B[0m\u001B[0;34m\u001B[0m\u001B[0;34m\u001B[0m\u001B[0m\n\u001B[1;32m   5690\u001B[0m             new_data = self._data.astype(dtype=dtype, copy=copy, errors=errors,\n\u001B[0;32m-> 5691\u001B[0;31m                                          **kwargs)\n\u001B[0m\u001B[1;32m   5692\u001B[0m             \u001B[0;32mreturn\u001B[0m \u001B[0mself\u001B[0m\u001B[0;34m.\u001B[0m\u001B[0m_constructor\u001B[0m\u001B[0;34m(\u001B[0m\u001B[0mnew_data\u001B[0m\u001B[0;34m)\u001B[0m\u001B[0;34m.\u001B[0m\u001B[0m__finalize__\u001B[0m\u001B[0;34m(\u001B[0m\u001B[0mself\u001B[0m\u001B[0;34m)\u001B[0m\u001B[0;34m\u001B[0m\u001B[0m\n\u001B[1;32m   5693\u001B[0m \u001B[0;34m\u001B[0m\u001B[0m\n",
      "\u001B[0;32m/Users/niklas/PycharmProjects/Capstone_IBM/venv/lib/python2.7/site-packages/pandas/core/internals/managers.pyc\u001B[0m in \u001B[0;36mastype\u001B[0;34m(self, dtype, **kwargs)\u001B[0m\n\u001B[1;32m    529\u001B[0m \u001B[0;34m\u001B[0m\u001B[0m\n\u001B[1;32m    530\u001B[0m     \u001B[0;32mdef\u001B[0m \u001B[0mastype\u001B[0m\u001B[0;34m(\u001B[0m\u001B[0mself\u001B[0m\u001B[0;34m,\u001B[0m \u001B[0mdtype\u001B[0m\u001B[0;34m,\u001B[0m \u001B[0;34m**\u001B[0m\u001B[0mkwargs\u001B[0m\u001B[0;34m)\u001B[0m\u001B[0;34m:\u001B[0m\u001B[0;34m\u001B[0m\u001B[0m\n\u001B[0;32m--> 531\u001B[0;31m         \u001B[0;32mreturn\u001B[0m \u001B[0mself\u001B[0m\u001B[0;34m.\u001B[0m\u001B[0mapply\u001B[0m\u001B[0;34m(\u001B[0m\u001B[0;34m'astype'\u001B[0m\u001B[0;34m,\u001B[0m \u001B[0mdtype\u001B[0m\u001B[0;34m=\u001B[0m\u001B[0mdtype\u001B[0m\u001B[0;34m,\u001B[0m \u001B[0;34m**\u001B[0m\u001B[0mkwargs\u001B[0m\u001B[0;34m)\u001B[0m\u001B[0;34m\u001B[0m\u001B[0m\n\u001B[0m\u001B[1;32m    532\u001B[0m \u001B[0;34m\u001B[0m\u001B[0m\n\u001B[1;32m    533\u001B[0m     \u001B[0;32mdef\u001B[0m \u001B[0mconvert\u001B[0m\u001B[0;34m(\u001B[0m\u001B[0mself\u001B[0m\u001B[0;34m,\u001B[0m \u001B[0;34m**\u001B[0m\u001B[0mkwargs\u001B[0m\u001B[0;34m)\u001B[0m\u001B[0;34m:\u001B[0m\u001B[0;34m\u001B[0m\u001B[0m\n",
      "\u001B[0;32m/Users/niklas/PycharmProjects/Capstone_IBM/venv/lib/python2.7/site-packages/pandas/core/internals/managers.pyc\u001B[0m in \u001B[0;36mapply\u001B[0;34m(self, f, axes, filter, do_integrity_check, consolidate, **kwargs)\u001B[0m\n\u001B[1;32m    393\u001B[0m                                             copy=align_copy)\n\u001B[1;32m    394\u001B[0m \u001B[0;34m\u001B[0m\u001B[0m\n\u001B[0;32m--> 395\u001B[0;31m             \u001B[0mapplied\u001B[0m \u001B[0;34m=\u001B[0m \u001B[0mgetattr\u001B[0m\u001B[0;34m(\u001B[0m\u001B[0mb\u001B[0m\u001B[0;34m,\u001B[0m \u001B[0mf\u001B[0m\u001B[0;34m)\u001B[0m\u001B[0;34m(\u001B[0m\u001B[0;34m**\u001B[0m\u001B[0mkwargs\u001B[0m\u001B[0;34m)\u001B[0m\u001B[0;34m\u001B[0m\u001B[0m\n\u001B[0m\u001B[1;32m    396\u001B[0m             \u001B[0mresult_blocks\u001B[0m \u001B[0;34m=\u001B[0m \u001B[0m_extend_blocks\u001B[0m\u001B[0;34m(\u001B[0m\u001B[0mapplied\u001B[0m\u001B[0;34m,\u001B[0m \u001B[0mresult_blocks\u001B[0m\u001B[0;34m)\u001B[0m\u001B[0;34m\u001B[0m\u001B[0m\n\u001B[1;32m    397\u001B[0m \u001B[0;34m\u001B[0m\u001B[0m\n",
      "\u001B[0;32m/Users/niklas/PycharmProjects/Capstone_IBM/venv/lib/python2.7/site-packages/pandas/core/internals/blocks.pyc\u001B[0m in \u001B[0;36mastype\u001B[0;34m(self, dtype, copy, errors, values, **kwargs)\u001B[0m\n\u001B[1;32m    532\u001B[0m     \u001B[0;32mdef\u001B[0m \u001B[0mastype\u001B[0m\u001B[0;34m(\u001B[0m\u001B[0mself\u001B[0m\u001B[0;34m,\u001B[0m \u001B[0mdtype\u001B[0m\u001B[0;34m,\u001B[0m \u001B[0mcopy\u001B[0m\u001B[0;34m=\u001B[0m\u001B[0mFalse\u001B[0m\u001B[0;34m,\u001B[0m \u001B[0merrors\u001B[0m\u001B[0;34m=\u001B[0m\u001B[0;34m'raise'\u001B[0m\u001B[0;34m,\u001B[0m \u001B[0mvalues\u001B[0m\u001B[0;34m=\u001B[0m\u001B[0mNone\u001B[0m\u001B[0;34m,\u001B[0m \u001B[0;34m**\u001B[0m\u001B[0mkwargs\u001B[0m\u001B[0;34m)\u001B[0m\u001B[0;34m:\u001B[0m\u001B[0;34m\u001B[0m\u001B[0m\n\u001B[1;32m    533\u001B[0m         return self._astype(dtype, copy=copy, errors=errors, values=values,\n\u001B[0;32m--> 534\u001B[0;31m                             **kwargs)\n\u001B[0m\u001B[1;32m    535\u001B[0m \u001B[0;34m\u001B[0m\u001B[0m\n\u001B[1;32m    536\u001B[0m     def _astype(self, dtype, copy=False, errors='raise', values=None,\n",
      "\u001B[0;32m/Users/niklas/PycharmProjects/Capstone_IBM/venv/lib/python2.7/site-packages/pandas/core/internals/blocks.pyc\u001B[0m in \u001B[0;36m_astype\u001B[0;34m(self, dtype, copy, errors, values, **kwargs)\u001B[0m\n\u001B[1;32m    614\u001B[0m \u001B[0;34m\u001B[0m\u001B[0m\n\u001B[1;32m    615\u001B[0m                 \u001B[0;32mif\u001B[0m \u001B[0mself\u001B[0m\u001B[0;34m.\u001B[0m\u001B[0mis_extension\u001B[0m\u001B[0;34m:\u001B[0m\u001B[0;34m\u001B[0m\u001B[0m\n\u001B[0;32m--> 616\u001B[0;31m                     \u001B[0mvalues\u001B[0m \u001B[0;34m=\u001B[0m \u001B[0mself\u001B[0m\u001B[0;34m.\u001B[0m\u001B[0mvalues\u001B[0m\u001B[0;34m.\u001B[0m\u001B[0mastype\u001B[0m\u001B[0;34m(\u001B[0m\u001B[0mdtype\u001B[0m\u001B[0;34m)\u001B[0m\u001B[0;34m\u001B[0m\u001B[0m\n\u001B[0m\u001B[1;32m    617\u001B[0m                 \u001B[0;32melse\u001B[0m\u001B[0;34m:\u001B[0m\u001B[0;34m\u001B[0m\u001B[0m\n\u001B[1;32m    618\u001B[0m                     if issubclass(dtype.type,\n",
      "\u001B[0;32m/Users/niklas/PycharmProjects/Capstone_IBM/venv/lib/python2.7/site-packages/pandas/core/arrays/categorical.pyc\u001B[0m in \u001B[0;36mastype\u001B[0;34m(self, dtype, copy)\u001B[0m\n\u001B[1;32m    492\u001B[0m                 \u001B[0;32mreturn\u001B[0m \u001B[0mself\u001B[0m\u001B[0;34m\u001B[0m\u001B[0m\n\u001B[1;32m    493\u001B[0m             \u001B[0;32mreturn\u001B[0m \u001B[0mself\u001B[0m\u001B[0;34m.\u001B[0m\u001B[0m_set_dtype\u001B[0m\u001B[0;34m(\u001B[0m\u001B[0mdtype\u001B[0m\u001B[0;34m)\u001B[0m\u001B[0;34m\u001B[0m\u001B[0m\n\u001B[0;32m--> 494\u001B[0;31m         \u001B[0;32mreturn\u001B[0m \u001B[0mnp\u001B[0m\u001B[0;34m.\u001B[0m\u001B[0marray\u001B[0m\u001B[0;34m(\u001B[0m\u001B[0mself\u001B[0m\u001B[0;34m,\u001B[0m \u001B[0mdtype\u001B[0m\u001B[0;34m=\u001B[0m\u001B[0mdtype\u001B[0m\u001B[0;34m,\u001B[0m \u001B[0mcopy\u001B[0m\u001B[0;34m=\u001B[0m\u001B[0mcopy\u001B[0m\u001B[0;34m)\u001B[0m\u001B[0;34m\u001B[0m\u001B[0m\n\u001B[0m\u001B[1;32m    495\u001B[0m \u001B[0;34m\u001B[0m\u001B[0m\n\u001B[1;32m    496\u001B[0m     \u001B[0;34m@\u001B[0m\u001B[0mcache_readonly\u001B[0m\u001B[0;34m\u001B[0m\u001B[0m\n",
      "\u001B[0;32m/Users/niklas/PycharmProjects/Capstone_IBM/venv/lib/python2.7/site-packages/pandas/core/arrays/categorical.pyc\u001B[0m in \u001B[0;36m__array__\u001B[0;34m(self, dtype)\u001B[0m\n\u001B[1;32m   1289\u001B[0m         \u001B[0mret\u001B[0m \u001B[0;34m=\u001B[0m \u001B[0mtake_1d\u001B[0m\u001B[0;34m(\u001B[0m\u001B[0mself\u001B[0m\u001B[0;34m.\u001B[0m\u001B[0mcategories\u001B[0m\u001B[0;34m.\u001B[0m\u001B[0mvalues\u001B[0m\u001B[0;34m,\u001B[0m \u001B[0mself\u001B[0m\u001B[0;34m.\u001B[0m\u001B[0m_codes\u001B[0m\u001B[0;34m)\u001B[0m\u001B[0;34m\u001B[0m\u001B[0m\n\u001B[1;32m   1290\u001B[0m         \u001B[0;32mif\u001B[0m \u001B[0mdtype\u001B[0m \u001B[0;32mand\u001B[0m \u001B[0;32mnot\u001B[0m \u001B[0mis_dtype_equal\u001B[0m\u001B[0;34m(\u001B[0m\u001B[0mdtype\u001B[0m\u001B[0;34m,\u001B[0m \u001B[0mself\u001B[0m\u001B[0;34m.\u001B[0m\u001B[0mcategories\u001B[0m\u001B[0;34m.\u001B[0m\u001B[0mdtype\u001B[0m\u001B[0;34m)\u001B[0m\u001B[0;34m:\u001B[0m\u001B[0;34m\u001B[0m\u001B[0m\n\u001B[0;32m-> 1291\u001B[0;31m             \u001B[0;32mreturn\u001B[0m \u001B[0mnp\u001B[0m\u001B[0;34m.\u001B[0m\u001B[0masarray\u001B[0m\u001B[0;34m(\u001B[0m\u001B[0mret\u001B[0m\u001B[0;34m,\u001B[0m \u001B[0mdtype\u001B[0m\u001B[0;34m)\u001B[0m\u001B[0;34m\u001B[0m\u001B[0m\n\u001B[0m\u001B[1;32m   1292\u001B[0m         \u001B[0;32mif\u001B[0m \u001B[0mis_extension_array_dtype\u001B[0m\u001B[0;34m(\u001B[0m\u001B[0mret\u001B[0m\u001B[0;34m)\u001B[0m\u001B[0;34m:\u001B[0m\u001B[0;34m\u001B[0m\u001B[0m\n\u001B[1;32m   1293\u001B[0m             \u001B[0;31m# When we're a Categorical[ExtensionArray], like Interval,\u001B[0m\u001B[0;34m\u001B[0m\u001B[0;34m\u001B[0m\u001B[0m\n",
      "\u001B[0;32m/Users/niklas/PycharmProjects/Capstone_IBM/venv/lib/python2.7/site-packages/numpy/core/numeric.pyc\u001B[0m in \u001B[0;36masarray\u001B[0;34m(a, dtype, order)\u001B[0m\n\u001B[1;32m    536\u001B[0m \u001B[0;34m\u001B[0m\u001B[0m\n\u001B[1;32m    537\u001B[0m     \"\"\"\n\u001B[0;32m--> 538\u001B[0;31m     \u001B[0;32mreturn\u001B[0m \u001B[0marray\u001B[0m\u001B[0;34m(\u001B[0m\u001B[0ma\u001B[0m\u001B[0;34m,\u001B[0m \u001B[0mdtype\u001B[0m\u001B[0;34m,\u001B[0m \u001B[0mcopy\u001B[0m\u001B[0;34m=\u001B[0m\u001B[0mFalse\u001B[0m\u001B[0;34m,\u001B[0m \u001B[0morder\u001B[0m\u001B[0;34m=\u001B[0m\u001B[0morder\u001B[0m\u001B[0;34m)\u001B[0m\u001B[0;34m\u001B[0m\u001B[0m\n\u001B[0m\u001B[1;32m    539\u001B[0m \u001B[0;34m\u001B[0m\u001B[0m\n\u001B[1;32m    540\u001B[0m \u001B[0;34m\u001B[0m\u001B[0m\n",
      "\u001B[0;31mValueError\u001B[0m: invalid literal for long() with base 10: 'Intersection'"
     ]
    }
   ],
   "source": [
    "df_cleaned.dropna(inplace=True)\n",
    "\n",
    "df_cleaned[\"ADDRTYPE\"] = df_cleaned[\"ADDRTYPE\"].astype('category')\n",
    "df_cleaned[\"WEATHER\"] = df_cleaned[\"WEATHER\"].astype('category')\n",
    "df_cleaned[\"ROADCOND\"] = df_cleaned[\"ROADCOND\"].astype('category')\n",
    "df_cleaned[\"LIGHTCOND\"] = df_cleaned[\"LIGHTCOND\"].astype('category')\n",
    "\n",
    "df_cleaned[\"ADDRTYPE\"].value_counts()\n",
    "\n",
    "df_cleaned[\"WEATHER\"].value_counts()\n",
    "\n",
    "df_cleaned[\"ROADCOND\"].value_counts()\n",
    "\n",
    "df_cleaned[\"LIGHTCOND\"].value_counts()\n",
    "\n",
    "df_cleaned[\"ADDRTYPE_INT\"] = df_cleaned[\"ADDRTYPE\"].astype(int)\n",
    "df_cleaned[\"WEATHER_INT\"] = df_cleaned[\"WEATHER\"].astype(int)\n",
    "df_cleaned[\"ROADCOND_INT\"] = df_cleaned[\"ROADCOND\"].astype(int)\n",
    "df_cleaned[\"LIGHTCOND_INT\"] = df_cleaned[\"LIGHTCOND\"].astype(int)"
   ],
   "metadata": {
    "collapsed": false,
    "pycharm": {
     "name": "#%%delete rows with missing data\n"
    }
   }
  },
  {
   "cell_type": "markdown",
   "source": [
    "2. Inferential statistical testing\n",
    "\n",
    "3. Machine Learnings"
   ],
   "metadata": {
    "collapsed": false
   }
  },
  {
   "cell_type": "markdown",
   "source": [
    "#### Results"
   ],
   "metadata": {
    "collapsed": false,
    "pycharm": {
     "name": "#%% md\n"
    }
   }
  },
  {
   "cell_type": "markdown",
   "source": [
    "#### Discussion"
   ],
   "metadata": {
    "collapsed": false,
    "pycharm": {
     "name": "#%% md\n"
    }
   }
  },
  {
   "cell_type": "markdown",
   "source": [
    "#### Conclusion"
   ],
   "metadata": {
    "collapsed": false,
    "pycharm": {
     "name": "#%% md\n"
    }
   }
  }
 ],
 "metadata": {
  "kernelspec": {
   "name": "python2",
   "language": "python",
   "display_name": "Python 2"
  },
  "language_info": {
   "codemirror_mode": {
    "name": "ipython",
    "version": 2
   },
   "file_extension": ".py",
   "mimetype": "text/x-python",
   "name": "python",
   "nbconvert_exporter": "python",
   "pygments_lexer": "ipython2",
   "version": "2.7.6"
  }
 },
 "nbformat": 4,
 "nbformat_minor": 0
}