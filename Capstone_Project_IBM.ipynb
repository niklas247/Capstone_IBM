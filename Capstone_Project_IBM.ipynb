{
 "cells": [
  {
   "cell_type": "markdown",
   "source": [
    "# Capstone Project by Niklas"
   ],
   "metadata": {
    "collapsed": false,
    "pycharm": {
     "name": "#%% md\n"
    }
   }
  },
  {
   "cell_type": "markdown",
   "source": [
    "## Problem description & Background\n",
    "\n",
    "Car accidents can have tremendous impacts on a persons life.\n",
    "Multiple factors that can have an influence. Traffic, rain, snow, wind,\n",
    "road conditions.\n",
    "Based on those, on the one hand likeliness of an accident and severity\n",
    "are influenced.\n",
    "Help people to evaluate overall risk out of the combination of likeliness\n",
    "of an accident and potential impact so they\n",
    "can make better decisions -"
   ],
   "metadata": {
    "collapsed": false,
    "pycharm": {
     "name": "#%% md\n"
    }
   }
  },
  {
   "cell_type": "markdown",
   "source": [
    "## Data description and usage to solve the problem\n",
    "\n",
    "Describe the data that you will be using to solve the problem\n",
    "or execute your idea. So make sure that you provide adequate\n",
    "explanation and discussion, with examples, of the data that you\n",
    "will be using.\n",
    "For this Capstone Project, a Collision data set will be used that\n",
    "contains various variables with possible influence on the target variable, the **SEVERITY** of an accident.\n",
    "Those predictor variables include the following:\n",
    "\n",
    "- WEATHER: Describing wheather conditions with attribute options like Clear, Overcast, Raining, Fog, Crosswind, Snow, and other\n",
    "- ROADCOND: Describing road conditions with attribute options like Dry, Wet, Ice, Oil, Standing Water, and other\n",
    "- LIGHTCOND: Describing light conditions with attribute options like Daylight, Dawn, and Dark with different status of artificial/street light\n",
    "- SPEEDING: Might have an influence, but the dataset used seems not to provide enough data for it\n",
    "- ADDRTYPE: Describing the address type where a collision took place with the options Alley, Block, and Intersection\n",
    "- COLLISIONTYPE: Describing the type of the collision with options like parked car, right turn, pedestrian, and others\n",
    "- VEHICLECOUNT: Describing the number of vehicles involved in the accident\n",
    "- SDOTCOLLISION\n",
    "- DATE/TIME\n"
   ],
   "metadata": {
    "collapsed": false,
    "pycharm": {
     "name": "#%% md\n"
    }
   }
  },
  {
   "cell_type": "markdown",
   "source": [
    "#### Methodology section\n",
    "\n",
    "1. Exploratory Analysis\n",
    "\n",
    "2. Inferential statistical testing\n",
    "\n",
    "3. Machine Learnings"
   ],
   "metadata": {
    "collapsed": false,
    "pycharm": {
     "name": "#%% md\n"
    }
   }
  },
  {
   "cell_type": "markdown",
   "source": [
    "#### Results"
   ],
   "metadata": {
    "collapsed": false,
    "pycharm": {
     "name": "#%% md\n"
    }
   }
  },
  {
   "cell_type": "markdown",
   "source": [
    "#### Discussion"
   ],
   "metadata": {
    "collapsed": false,
    "pycharm": {
     "name": "#%% md\n"
    }
   }
  },
  {
   "cell_type": "markdown",
   "source": [
    "#### Conclusion"
   ],
   "metadata": {
    "collapsed": false,
    "pycharm": {
     "name": "#%% md\n"
    }
   }
  }
 ],
 "metadata": {
  "kernelspec": {
   "name": "python2",
   "language": "python",
   "display_name": "Python 2"
  },
  "language_info": {
   "codemirror_mode": {
    "name": "ipython",
    "version": 2
   },
   "file_extension": ".py",
   "mimetype": "text/x-python",
   "name": "python",
   "nbconvert_exporter": "python",
   "pygments_lexer": "ipython2",
   "version": "2.7.6"
  }
 },
 "nbformat": 4,
 "nbformat_minor": 0
}