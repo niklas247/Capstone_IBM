{
 "cells": [
  {
   "cell_type": "markdown",
   "source": [
    "# Capstone Project by Niklas"
   ],
   "metadata": {
    "collapsed": false,
    "pycharm": {
     "name": "#%% md\n"
    }
   }
  },
  {
   "cell_type": "markdown",
   "source": [
    "## Problem description & Background\n",
    "\n",
    "Vehicle accidents can have tremendous impacts on a person's life - both from a health perspective but also on a financial one.\n",
    "On those, multiple factors like traffic, rain, snow, wind,\n",
    "or road conditions can determine the likeliness and severity of an accident.\n",
    "\n",
    "*Can it be possible to determine and quantify the risk even before starting the engine by knowing certain conditions that can be expected during the ride?*\n",
    "\n",
    "So, the goal of this research is to help people to evaluate the overall risk of a vehicle trip out of the combination of likeliness\n",
    "of an accident and potential impact/severity, so that drivers can make better decisions for themselves and other people."
   ],
   "metadata": {
    "collapsed": false,
    "pycharm": {
     "name": "#%% md\n"
    }
   }
  },
  {
   "cell_type": "markdown",
   "source": [
    "## Data description and usage to solve the problem\n",
    "\n",
    "For this Capstone Project, a Collision data set will be used that includes information about almost 200,000 accidents recorded in Seattle, WA, since the year 2004.\n",
    "From those accidents, 5085 did not involve vehicles but just pedestrians and cyclists. Those will be excluded from the analysis.\n",
    "Overall, the data set contains various variables with possible influence on the target variable, the **SEVERITY** of an accident.\n",
    "These predictor variables include the following:\n",
    "\n",
    "- *WEATHER:* Describing weather conditions with attribute options like Clear, Overcast, Raining, Fog, Crosswind, Snow, and other\n",
    "- *ROADCOND:* Describing road conditions with attribute options like Dry, Wet, Ice, Oil, Standing Water, and other\n",
    "- *LIGHTCOND:* Describing light conditions with attribute options like Daylight, Dawn, and Dark with different status of artificial/street light\n",
    "- *ADDRTYPE:* Describing the address type where a collision took place with the options Alley, Block, and Intersection\n",
    "- *COLLISIONTYPE:* Describing the type of the collision with options like parked car, right turn, pedestrian, and others\n",
    "- *VEHICLECOUNT:* Describing the number of vehicles involved in the accident\n",
    "- *DATE/TIME:* Describing date and time of when the accident happened\n",
    "\n",
    "Going forward, this data will be examined via exploratory analysis to identify the most influential predictor variables.\n"
   ],
   "metadata": {
    "collapsed": false,
    "pycharm": {
     "name": "#%% md\n"
    }
   }
  },
  {
   "cell_type": "markdown",
   "source": [
    "#### Methodology section\n",
    "\n",
    "1. Exploratory Analysis"
   ],
   "metadata": {
    "collapsed": false,
    "pycharm": {
     "name": "#%% md\n"
    }
   }
  },
  {
   "cell_type": "code",
   "execution_count": 1,
   "outputs": [],
   "source": [
    "#import libraries\n",
    "\n",
    "import pandas as pd\n",
    "import numpy as np"
   ],
   "metadata": {
    "collapsed": false,
    "pycharm": {
     "name": "#%%\n"
    }
   }
  },
  {
   "cell_type": "code",
   "execution_count": 2,
   "outputs": [
    {
     "name": "stderr",
     "output_type": "stream",
     "text": [
      "/Users/niklas/PycharmProjects/Capstone_IBM/venv/lib/python2.7/site-packages/IPython/core/interactiveshell.py:2714: DtypeWarning: Columns (33) have mixed types. Specify dtype option on import or set low_memory=False.\n",
      "  interactivity=interactivity, compiler=compiler, result=result)\n"
     ]
    }
   ],
   "source": [
    "# import data\n",
    "\n",
    "df_raw = pd.read_csv(\"Data-Collisions.csv\")"
   ],
   "metadata": {
    "collapsed": false,
    "pycharm": {
     "name": "#%%\n"
    }
   }
  },
  {
   "cell_type": "code",
   "execution_count": 3,
   "outputs": [
    {
     "data": {
      "text/plain": "SEVERITYCODE     int64\nADDRTYPE        object\nWEATHER         object\nROADCOND        object\nLIGHTCOND       object\ndtype: object"
     },
     "execution_count": 3,
     "metadata": {},
     "output_type": "execute_result"
    }
   ],
   "source": [
    "df_columns = df_raw[['SEVERITYCODE','ADDRTYPE','WEATHER','ROADCOND','LIGHTCOND']]\n",
    "df_cleaned = df_columns.copy()\n",
    "df_cleaned.dtypes"
   ],
   "metadata": {
    "collapsed": false,
    "pycharm": {
     "name": "#%% clean data / create new dataframe\n"
    }
   }
  },
  {
   "cell_type": "code",
   "execution_count": 4,
   "outputs": [],
   "source": [
    "df_cleaned.dropna(inplace=True)\n",
    "\n",
    "df_cleaned[\"ADDRTYPE\"] = df_cleaned[\"ADDRTYPE\"].astype('category')\n",
    "df_cleaned[\"WEATHER\"] = df_cleaned[\"WEATHER\"].astype('category')\n",
    "df_cleaned[\"ROADCOND\"] = df_cleaned[\"ROADCOND\"].astype('category')\n",
    "df_cleaned[\"LIGHTCOND\"] = df_cleaned[\"LIGHTCOND\"].astype('category')"
   ],
   "metadata": {
    "collapsed": false,
    "pycharm": {
     "name": "#%%delete rows with missing data\n"
    }
   }
  },
  {
   "cell_type": "code",
   "execution_count": 5,
   "outputs": [
    {
     "data": {
      "text/plain": "Block           123321\nIntersection     63462\nAlley              742\nName: ADDRTYPE, dtype: int64"
     },
     "execution_count": 5,
     "metadata": {},
     "output_type": "execute_result"
    }
   ],
   "source": [
    "df_cleaned[\"ADDRTYPE\"].value_counts()"
   ],
   "metadata": {
    "collapsed": false,
    "pycharm": {
     "name": "#%%\n"
    }
   }
  },
  {
   "cell_type": "code",
   "execution_count": 6,
   "outputs": [
    {
     "data": {
      "text/plain": "Clear                       110499\nRaining                      32976\nOvercast                     27551\nUnknown                      14059\nSnowing                        896\nOther                          790\nFog/Smog/Smoke                 563\nSleet/Hail/Freezing Rain       112\nBlowing Sand/Dirt               49\nSevere Crosswind                25\nPartly Cloudy                    5\nName: WEATHER, dtype: int64"
     },
     "execution_count": 6,
     "metadata": {},
     "output_type": "execute_result"
    }
   ],
   "source": [
    "df_cleaned[\"WEATHER\"].value_counts()"
   ],
   "metadata": {
    "collapsed": false,
    "pycharm": {
     "name": "#%%\n"
    }
   }
  },
  {
   "cell_type": "code",
   "execution_count": 7,
   "outputs": [
    {
     "data": {
      "text/plain": "Dry               123736\nWet                47223\nUnknown            14009\nIce                 1193\nSnow/Slush           992\nOther                124\nStanding Water       111\nSand/Mud/Dirt         73\nOil                   64\nName: ROADCOND, dtype: int64"
     },
     "execution_count": 7,
     "metadata": {},
     "output_type": "execute_result"
    }
   ],
   "source": [
    "df_cleaned[\"ROADCOND\"].value_counts()"
   ],
   "metadata": {
    "collapsed": false,
    "pycharm": {
     "name": "#%%\n"
    }
   }
  },
  {
   "cell_type": "code",
   "execution_count": 8,
   "outputs": [
    {
     "data": {
      "text/plain": "Daylight                    115408\nDark - Street Lights On      48236\nUnknown                      12599\nDusk                          5843\nDawn                          2491\nDark - No Street Lights       1526\nDark - Street Lights Off      1184\nOther                          227\nDark - Unknown Lighting         11\nName: LIGHTCOND, dtype: int64"
     },
     "execution_count": 8,
     "metadata": {},
     "output_type": "execute_result"
    }
   ],
   "source": [
    "df_cleaned[\"LIGHTCOND\"].value_counts()"
   ],
   "metadata": {
    "collapsed": false,
    "pycharm": {
     "name": "#%%\n"
    }
   }
  },
  {
   "cell_type": "code",
   "execution_count": 9,
   "outputs": [],
   "source": [
    "df_cleaned[\"ADDRTYPE_INT\"] = df_cleaned[\"ADDRTYPE\"].cat.codes\n",
    "df_cleaned[\"WEATHER_INT\"] = df_cleaned[\"WEATHER\"].cat.codes\n",
    "df_cleaned[\"ROADCOND_INT\"] = df_cleaned[\"ROADCOND\"].cat.codes\n",
    "df_cleaned[\"LIGHTCOND_INT\"] = df_cleaned[\"LIGHTCOND\"].cat.codes"
   ],
   "metadata": {
    "collapsed": false,
    "pycharm": {
     "name": "#%%\n"
    }
   }
  },
  {
   "cell_type": "code",
   "execution_count": null,
   "outputs": [],
   "source": [
    "df_cleaned.head(10)"
   ],
   "metadata": {
    "collapsed": false,
    "pycharm": {
     "name": "#%%\n"
    }
   }
  },
  {
   "cell_type": "markdown",
   "source": [
    "2. Inferential statistical testing\n",
    "\n",
    "3. Machine Learnings"
   ],
   "metadata": {
    "collapsed": false
   }
  },
  {
   "cell_type": "markdown",
   "source": [
    "#### Results"
   ],
   "metadata": {
    "collapsed": false,
    "pycharm": {
     "name": "#%% md\n"
    }
   }
  },
  {
   "cell_type": "markdown",
   "source": [
    "#### Discussion"
   ],
   "metadata": {
    "collapsed": false,
    "pycharm": {
     "name": "#%% md\n"
    }
   }
  },
  {
   "cell_type": "markdown",
   "source": [
    "#### Conclusion"
   ],
   "metadata": {
    "collapsed": false,
    "pycharm": {
     "name": "#%% md\n"
    }
   }
  }
 ],
 "metadata": {
  "kernelspec": {
   "name": "python2",
   "language": "python",
   "display_name": "Python 2"
  },
  "language_info": {
   "codemirror_mode": {
    "name": "ipython",
    "version": 2
   },
   "file_extension": ".py",
   "mimetype": "text/x-python",
   "name": "python",
   "nbconvert_exporter": "python",
   "pygments_lexer": "ipython2",
   "version": "2.7.6"
  }
 },
 "nbformat": 4,
 "nbformat_minor": 0
}